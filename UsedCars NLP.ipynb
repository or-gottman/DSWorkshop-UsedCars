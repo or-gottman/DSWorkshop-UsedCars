{
 "cells": [
  {
   "cell_type": "code",
   "execution_count": 4,
   "id": "03ac28b7",
   "metadata": {
    "pycharm": {
     "name": "#%%\n"
    }
   },
   "outputs": [],
   "source": [
    "#NLP Libraries:\n",
    "import nltk\n",
    "\n",
    "#Our standards:\n",
    "from tqdm import tqdm\n",
    "import pandas as pd\n",
    "import numpy as np\n",
    "import matplotlib.pyplot as plt\n",
    "import seaborn as sns\n",
    "%matplotlib inline\n",
    "sns.set(\"talk\")"
   ]
  },
  {
   "cell_type": "code",
   "execution_count": 5,
   "id": "cf733820",
   "metadata": {
    "pycharm": {
     "name": "#%%\n"
    }
   },
   "outputs": [
    {
     "name": "stderr",
     "output_type": "stream",
     "text": [
      "/Users/org/anaconda3/lib/python3.9/site-packages/IPython/core/interactiveshell.py:3444: DtypeWarning: Columns (12) have mixed types.Specify dtype option on import or set low_memory=False.\n",
      "  exec(code_obj, self.user_global_ns, self.user_ns)\n"
     ]
    }
   ],
   "source": [
    "# Do not limit column width in pandas df\n",
    "pd.set_option('display.max_colwidth', None)\n",
    "\n",
    "# Read CSV\n",
    "data = pd.read_csv('./data/used_cars_100k.csv')\n",
    "# data = data.sample(frac=1).reset_index(drop=True)"
   ]
  },
  {
   "cell_type": "code",
   "execution_count": null,
   "id": "a574b24b",
   "metadata": {
    "pycharm": {
     "name": "#%%\n"
    }
   },
   "outputs": [],
   "source": []
  },
  {
   "cell_type": "markdown",
   "id": "c4b5057b",
   "metadata": {
    "pycharm": {
     "name": "#%% md\n"
    }
   },
   "source": [
    "### Text Stats"
   ]
  },
  {
   "cell_type": "code",
   "execution_count": 23,
   "id": "eec71ce3",
   "metadata": {
    "pycharm": {
     "name": "#%%\n"
    }
   },
   "outputs": [],
   "source": [
    "desc = data[['id','description']]"
   ]
  },
  {
   "cell_type": "code",
   "execution_count": 24,
   "id": "acb2667a",
   "metadata": {
    "scrolled": true,
    "pycharm": {
     "name": "#%%\n"
    }
   },
   "outputs": [
    {
     "name": "stderr",
     "output_type": "stream",
     "text": [
      "/var/folders/w5/ss0d86s13hv0lvf5_8nlgbpw0000gn/T/ipykernel_5624/1427868633.py:1: SettingWithCopyWarning: \n",
      "A value is trying to be set on a copy of a slice from a DataFrame.\n",
      "Try using .loc[row_indexer,col_indexer] = value instead\n",
      "\n",
      "See the caveats in the documentation: https://pandas.pydata.org/pandas-docs/stable/user_guide/indexing.html#returning-a-view-versus-a-copy\n",
      "  desc['description'] = desc.description.str.lower()\n"
     ]
    },
    {
     "data": {
      "text/html": [
       "<div>\n",
       "<style scoped>\n",
       "    .dataframe tbody tr th:only-of-type {\n",
       "        vertical-align: middle;\n",
       "    }\n",
       "\n",
       "    .dataframe tbody tr th {\n",
       "        vertical-align: top;\n",
       "    }\n",
       "\n",
       "    .dataframe thead th {\n",
       "        text-align: right;\n",
       "    }\n",
       "</style>\n",
       "<table border=\"1\" class=\"dataframe\">\n",
       "  <thead>\n",
       "    <tr style=\"text-align: right;\">\n",
       "      <th></th>\n",
       "      <th>id</th>\n",
       "      <th>description</th>\n",
       "    </tr>\n",
       "  </thead>\n",
       "  <tbody>\n",
       "    <tr>\n",
       "      <th>0</th>\n",
       "      <td>1386632</td>\n",
       "      <td>**low miles, dual zone automatic climate control, lx cool &amp; connected package, radio: am/fm/cd/mp3/siriusxm w/uvo eservices, 3.51 axle ratio, 4-wheel disc brakes, 6 speakers, abs brakes, air conditioning, am/fm radio: siriusxm, anti-whiplash front head restraints, brake assist, bumpers: body-color, carpet floor mats (5 seat), cd player, delay-off headlights, driver door bin, driver vanity mirror, dual front impact airbags, dual front side impact airbags, electronic stability control, exterior parking camera rear, four wheel independent suspension, front anti-roll bar, front bucket seats, front center armrest, front reading lights, fully automatic headlights, heated door mirrors, illuminated entry, low tire pressure warning, occupant sensing airbag, outside temperature display, overhead airbag, overhead console, panic alarm, passenger door bin, passenger vanity mirror, power door mirrors, power steering, power windows, radio: am/fm/cd/mp3/siriusxm, rear anti-roll bar, rear seat center armrest, rear window defroster, rear window wiper, remote keyless entry, roof rack: rails only, security system, speed control, speed-sensing steering, split folding rear seat, spoiler, steering wheel mounted audio controls, tachometer, telescoping steering wheel, tilt steering wheel, traction control, trip computer, turn signal indicator mirrors, variably intermittent wipers, wheels: 17 x 7.0 alloy, yes essentials cloth seat trim, **clean vehicle history**, dual zone automatic climate control, lx cool &amp; connected package, radio: am/fm/cd/mp3/siriusxm w/uvo eservices.sangria 2018 kia sorento lx 4d sport utility 6-speed automatic with sportmatic 2.4l dohc fwdodometer is 1179 miles below market average! priced below kbb fair purchase price!established in 1986 and employing nearly 450 people in nebraska and missouri, the anderson auto group family of dealerships is designed to be fast, fair, simple, &amp; stress-free. anderson auto group offers new &amp; quality pre-owned vehicles with competitive market pricing and a non-commissioned sales staff. complimentary benefits - see store for details vehicle history report on all pre-owned collision deductible reimbursement 48-hour return or exchange helping others - a portion of all sales at anderson auto group go to our 501c3 non-profit organization, because people matter. bpm partners with local nonprofits to provide vehicles and repair to those in need. mike anderson was one of 51 dealers nationwide to be nominated for the 2019 time dealer of the year award because of his support to our communities. interested in donating your vehicle (it can be in any condition) to help support your community? ask a salesperson today! 21/28 city/highway mpgawards:* 2018 kbb.com 10 most affordable 3-row vehiclesbecause people matter... we will serve your needs by always doing what is right.[!@@additional info@@!]lx cool &amp; connected package,6 speakers,am/fm radio: siriusxm,cd player,radio: am/fm/cd/mp3/siriusxm,radio: am/fm/cd/mp3/siriusxm w/uvo eservices,air conditioning,dual zone automatic climate control,rear window defroster,power steering,power windows,remote keyless entry,steering wheel mounted audio controls,four wheel independent suspension,speed-sensing steering,traction control,4-wheel disc brakes,abs brakes,anti-whiplash front head restraints,dual front impact airbags,dual front side impact airbags,front anti-roll bar,low tire pressure warning,occupant sensing airbag,overhead airbag,rear anti-roll bar,brake assist,electronic stability control,exterior parking camera rear,delay-off headlights,fully automatic headlights,panic alarm,security system,speed control,bumpers: body-color,heated door mirrors,power door mirrors,roof rack: rails only,spoiler,turn signal indicator mirrors,carpet floor mats (5 seat),driver door bin,driver vanity mirror,front reading lights,illuminated entry,outside temperature display,overhead console,passenger vanity mirror,rear seat center armrest,tachometer,telescoping steering wheel,tilt steering wheel,trip computer,front bucket seats,front center armrest,split folding rear seat,yes essentials cloth seat trim,passenger door bin,wheels: 17\" x 7.0 alloy,rear window wiper,variably intermittent wipers,3.51 axle ratio,**low miles,**clean vehicle history**,sangria,carpet floor mats (5 seat),stone beige  yes essentials cloth seat trim,lx cool &amp; connected package  -inc: dual zone automatic climate control  ionizing air purifier  radio: am/fm/cd/mp3/siriusxm w/uvo eservices  6-speakers  7\" touch screen  android auto  apple carplay  usb/auxiliary input jacks  2-rapid charge usb ports and bluetooth wireless technology,front wheel drive,power steering,abs,4-wheel disc brakes,brake assist,aluminum wheels,tires - front all-season,tires - rear all-season,temporary spare tire,heated mirrors,power mirror(s),integrated turn signal mirrors,rear defrost,privacy glass,intermittent wipers,variable speed intermittent wipers,rear spoiler,power door locks,automatic headlights,am/fm stereo,cd player,satellite radio,mp3 player,bluetooth connection,auxiliary audio input,requires subscription,mp3 player,steering wheel audio controls,hard disk drive media storage,bucket seats,pass-through rear seat,rear bench seat,adjustable steering wheel,trip computer,power windows,keyless entry,power door locks,cruise control,a/c,woodgrain interior trim,cloth seats,driver vanity mirror,passenger vanity mirror,driver illuminated vanity mirror,passenger illuminated visor mirror,power windows,power door locks,trip computer,security system,engine immobilizer,traction control,stability control,traction control,front side air bag,tire pressure monitor,driver air bag,passenger air bag,front head air bag,rear head air bag,passenger air bag sensor,child safety locks,back-up camera</td>\n",
       "    </tr>\n",
       "    <tr>\n",
       "      <th>1</th>\n",
       "      <td>2702789</td>\n",
       "      <td>[!@@additional info@@!]front bumper color - body-color, grille color - black surround, grille color - chrome, rear bumper color - body-color, rear spoiler color - black, window trim - chrome, rear spoiler - roofline, steering ratio - 16.4, turns lock-to-lock - 3.5, air filtration, floor mat material - carpet, floor material - carpet, floor mats - front, front air conditioning - automatic climate control, front air conditioning zones - dual, rear air conditioning - automatic climate control, rear air conditioning zones - single, interior accents - chrome, floor mats - rear, floor mats - third row, armrests - rear center folding with storage, armrests - rear center with cupholders, assist handle - front, assist handle - rear, center console - front console with armrest and storage, cruise control, cupholders - front, cupholders - rear, easy entry - manual rear seat, multi-function remote - proximity entry system, multi-function remote - trunk release, steering wheel - tilt and telescopic, steering wheel mounted controls - audio, steering wheel mounted controls - phone, storage - cargo tie-down anchors and hooks, storage - door pockets, storage - front seatback, storage - grocery bag holder, storage - in dash, storage - rear seatback, storage - sunglasses holder, power outlet(s) - 12v cargo area, power outlet(s) - two 12v front, universal remote transmitter - homelink - garage door opener, power steering - variable/speed-proportional, conversation mirror, vanity mirrors - dual illuminating, storage - in floor, cupholders - third row, steering wheel mounted controls - cruise control, ambient lighting, cargo area light, courtesy lights - door, push-button start, reading lights - front, reading lights - rear, reading lights - third row, sunshade - side window, steering wheel mounted controls - multi-function, one-touch windows - 2, power windows - lockout button, abs - 4-wheel, electronic brakeforce distribution, front brake diameter - 12.6, front stabilizer bar - diameter 25 mm, front suspension classification - independent, power brakes, rear brake diameter - 13.1, rear suspension classification - independent, rear suspension type - multi-link, traction control, axle ratio - 4.25, front shock type - gas, front spring type - coil, front suspension type - lower control arms, rear shock type - gas, rear spring type - coil, front struts - macpherson, front brake type - ventilated disc, rear brake type - disc, cylinder deactivation, antenna type - element, auxiliary audio input - jack, auxiliary audio input - mp3, auxiliary audio input - usb, clock, external temperature display, fuel economy display - mpg, fuel economy display - range, hard drive - 2gb, in-dash cd - single disc, oil monitor, phone - pre-wired for phone, radio - am/fm, radio - touch screen display, speed sensitive volume control, subwoofer - 1, trip computer, trip odometer - 2, warnings and reminders - low fuel level, watts - 270, electronic messaging assistance - with read function, auxiliary audio input - bluetooth, wireless data link - bluetooth, in-dash cd - mp3 playback, total speakers - 7, gauge - tachometer, warnings and reminders - tire fill alert, infotainment - hondalink, daytime running lights, headlights - auto on/off, headlights - halogen, headlights - wiper activated, liftgate window - fixed, side door type - dual power sliding, taillights - led rear center, tire pressure monitoring system, spare tire mount location - inside, spare tire size - temporary, spare wheel type - steel, tire type - all season, wheels - alloy, front wipers - variable intermittent, rear privacy glass, rear quarter windows - power, rear wiper - intermittent, rear wiper - with washer, window defogger - rear, power windows - remotely operated, active head restraints - dual front, body side reinforcements - side impact door beams, crumple zones - front, front airbags - dual, impact absorbing bumpers, side airbags - front, side curtain airbags - front, side-curtain airbag rollover sensor, anti-theft system -</td>\n",
       "    </tr>\n",
       "    <tr>\n",
       "      <th>2</th>\n",
       "      <td>2254389</td>\n",
       "      <td>recent arrival! 8-speed automatic, 4wd, black cloth. chevrolet 2020 silverado 1500 lt ecotec3 5.3l v8 4wd 8-speed automatic summit white  all manufacturer's incentives and discounts applied. see dealer for details.[!@@additional info@@!]preferred equipment group 1lt,3.23 rear axle ratio,heavy-duty rear locking differential,wheels: 18\" x 8.5\" bright silver painted aluminum,wheels: 20\" x 9\" painted aluminum,wheel locks (set of 4) (lpo),40/20/40 front split bench seat,40/20/40 front split-bench seat,cloth seat trim,10-way power driver seat w/lumbar,cloth rear seat w/storage package,convenience package,convenience package ii,texas edition,single-zone manual/semi-automatic air conditioning,radio: chevrolet infotainment 3 system,radio: chevrolet infotainment 3 plus system,electronic cruise control,electric rear-window defogger,color-keyed carpeting floor covering,all-weather floor liner (lpo) (aak),onstar &amp; chevrolet connected services capable,120-volt instrument panel power outlet,z71 off-road &amp; protection package,bed protection package,chevytec spray-on black bedliner,deep-tinted glass,front license plate kit,led cargo area lighting,ez lift power lock &amp; release tailgate,heavy duty suspension,off-road suspension,z71 off-road package,z71 off-road package w/vyu,trailering package,220 amps alternator,integrated trailer brake controller,skid plates,rear wheelhouse liners,high capacity air filter,siriusxm w/360l,4-way manual driver seat adjuster,power sliding rear window w/rear defogger,locking tailgate,rear 60/40 folding bench seat (folds up),chevrolet connected access capable,power front windows w/passenger express down,power rear windows w/express down,remote keyless entry,power door locks,keyless open &amp; start,power front windows w/driver express up/down,front rubberized vinyl floor mats,rear rubberized-vinyl floor mats,bluetooth? for phone,remote vehicle starter system,dual-zone automatic climate control,compass,hitch guidance,chrome mirror caps,chrome grille,hill descent control,heated driver &amp; front outboard passenger seats,external engine oil cooler,120-volt bed mounted power outlet,heated steering wheel,auxiliary external transmission oil cooler,12-volt rear auxiliary power outlet,170 amp alternator,2 usb ports,2 usb ports (first row),electrical lock control steering column,dual exhaust w/polished outlets,manual tilt wheel steering column,manual tilt/telescoping steering column,urethane steering wheel,single-speed transfer case,leather wrapped steering wheel,2-speed transfer case,texas edition badging,hd radio,4.2\" diagonal color display driver info center,universal home remote,steering wheel audio controls,rear dual usb charging-only ports,theft deterrent system (unauthorized entry),hd rear vision camera,rear vision camera,front frame-mounted black recovery hooks,4g lte wi-fi hot spot capable,door mirrors: chrome,4-wheel disc brakes,6 speakers,air conditioning,electronic stability control,tachometer,voltmeter,abs brakes,am/fm radio,alloy wheels,brake assist,bumpers: chrome,delay-off headlights,driver door bin,driver vanity mirror,dual front impact airbags,dual front side impact airbags,front anti-roll bar,front reading lights,front wheel independent suspension,fully automatic headlights,heated door mirrors,illuminated entry,low tire pressure warning,occupant sensing airbag,outside temperature display,overhead airbag,overhead console,panic alarm,passenger door bin,passenger vanity mirror,power door mirrors,power steering,power windows,radio data system,rear reading lights,rear step bumper,remote keyless entry,speed control,speed-sensing steering,split folding rear seat,steering wheel mounted audio controls,tilt steering wheel,traction control,trip computer,variably intermittent wipers,front center armrest w/storage</td>\n",
       "    </tr>\n",
       "    <tr>\n",
       "      <th>3</th>\n",
       "      <td>2974344</td>\n",
       "      <td>1 owner , 4wd , explorer sport , navigation, back up camera , heated and cooled seats , brand new tires , dual moon roof third row seats .  ************************* cargurus top rated dealer 2018, 2019, 2020 ************************ every car is back by a free 30 days 1000 mile warranty (restriction apply ) *********************** stop by our new location and enjoy the no pressure buying atmosphere. for over 12 years mag  has surpassed the standard by demonstrating unrivaled integrity and professionalism. *********************** we offer wide array of financing options for all types of credit including fresh bankruptcy and first time buyer programs , tier 1 rates starting @ 2.99% o.a.c *********************** mag also offers the most reliable extended warranty and tire/wheel protection packages even on exotic and performance cars . *********************** prices may not include additional fees such as government fees and taxes, title and registration fees, finance charges, dealer document preparation fees, processing fees, and emission testing and compliance charges or any preinstalled accessories such as theft prevention and tracking device[!@@additional info@@!]body side moldings - black, door handle color - black, front bumper color - body-color, grille color - black, mirror color - body-color, rear bumper color - body-color, rear spoiler color - body-color, rocker panel color - black, skid plate(s) - front, window trim - black, rear spoiler - roofline, exhaust - dual tip, skid plate(s) - rear, steering ratio - 17.1, air filtration, dash trim - alloy, door sill trim - illuminated scuff plate, door trim - alloy, floor mat material - premium carpet, floor material - carpet, floor mats - front, front air conditioning - automatic climate control, front air conditioning zones - dual, heated steering wheel, shift knob trim - leather, steering wheel trim - leather, floor mats - rear, rear heat - independently controlled, assist handle - front, assist handle - rear, capless fuel filler system, center console - front console with armrest and storage, cruise control, cupholders - front, power steering, remote engine start, retained accessory power, steering wheel - tilt and telescopic, steering wheel mounted controls - audio, steering wheel mounted controls - paddle shifter, storage - cargo net, storage - cargo tie-down anchors and hooks, storage - door pockets, storage - front seatback, power outlet(s) - 12v cargo area, keypad entry, multi-function remote - illuminated entry, overhead console - front, cupholders - third row, steering wheel mounted controls - cruise control, cargo area light, push-button start, reading lights - front, reading lights - rear, reading lights - third row, one-touch windows - 1, power windows - lockout button, steering wheel mounted controls - voice control, rearview mirror - auto-dimming, 4wd type - full time, abs - 4-wheel, braking assist, center differential - mechanical, electronic brakeforce distribution, front brake diameter - 13.9, front brake width - 1.25, front stabilizer bar - diameter 32 mm, front suspension classification - independent, power brakes, rear brake diameter - 13.5, rear brake width - 0.75, rear stabilizer bar - diameter 22 mm, rear suspension classification - independent, rear suspension type - multi-link, roll stability control, stability control, traction control, hill descent control, hill holder control, front spring type - coil, front suspension type - lower control arms, rear shock type - twin-tube gas, rear spring type - coil, tuned suspension - sport, front struts - macpherson, front brake type - ventilated disc, rear brake type - ventilated disc, battery - maintenance-free, battery saver, battery rating - 650 cca, antenna type - diversity, antenna type - mast, auxiliary audio input - usb, clock, compass, digital odometer, external temperature display, in-dash cd - single disc, multi-function display, navigation system - touch screen display, radio - am/fm, radio - hd radio, radio - touch screen display, real time traffic, satellite radio - siriusxm, trip computer, trip odometer, warnings and reminders - low fuel level, warnings and reminders - low oil level, watts - 390, auxiliary audio input - bluetooth, wireless data link - bluetooth, surround sound - 5.1, in-dash cd - mp3 playback, total speakers - 12, gauge - tachometer, infotainment - android auto ready, infotainment - apple carplay ready, infotainment - sync, electronic messaging assistance - voice operated, navigation system - voice operated, phone - voice operated, radio - voice operated, warnings and reminders - maintenance due, connected in-car apps - google pois, connected in-car apps - google search, connected in-car apps - siriusxm travel link, infotainment screen size - 8 in., instrument cluster screen size - 4.2 in. (dual), daytime running lights, exterior entry lights - puddle lamps, exterior entry lights - security approach lamps, headlights - auto delay off, headlights - auto on/off, headlights - led, liftgate window - fixed, rear door type - power liftgate, taillights - led, front fog lights - led, rear door type - sensor-activated, tire pressure monitoring syst</td>\n",
       "    </tr>\n",
       "    <tr>\n",
       "      <th>4</th>\n",
       "      <td>687231</td>\n",
       "      <td>carfax one-owner. clean carfax. 2017 chevrolet traverse 2lt 2lt summit white 6-speed automatic 3.6l v6 sidi awards:  * 2017  10 most awarded brands odometer is 12319 miles below market average!   welcome to lawrence chevrolet, where we pride ourselves on our years of providing trustworthy, honest customer service. we've been your local mechanicsburg chevrolet dealer since 1980, and hope to continue filling all your automotive needs for years to come. it takes a stellar customer service staff to live up to the industry's expectations for outstanding service, and we routinely succeed in pleasing our loyal customers. more reasons why there's lots to love at lawrence!!![!@@additional info@@!]10 speakers|18\" x 7.5\" machined aluminum wheels|3.16 axle ratio|3rd row seats: split-bench|4-wheel disc brakes|7-passenger seating (2-2-3 seating configuration)|8-way power driver seat|8-way power driver seat w/power lumbar|8-way power passenger seat adjuster|abs brakes|am/fm radio: siriusxm|air conditioning|alloy wheels|auto-dimming inside rear-view mirror|auto-dimming rear-view mirror|automatic temperature control|bluetooth for phone|body-color bodyside moldings|body-color heated power-adjustable outside mirrors|bodyside moldings|bose premium 10-speaker audio system feature|brake assist|bumpers: body-color|cd player|color touch navigation system|compass|delay-off headlights|driver door bin|driver vanity mirror|dual front impact airbags|dual front side impact airbags|electronic stability control|emergency communication system|enhanced driver information center|exterior parking camera rear|four wheel independent suspension|front bucket seats|front center armrest w/storage|front fog lamps|front anti-roll bar|front dual zone a/c|front fog lights|front reading lights|frontal &amp; side-impact airbags|fully automatic headlights|garage door transmitter|heated driver &amp; front passenger seats|heated door mirrors|heated front seats|heavy-duty cooling system|illuminated entry|interior wood grain center stack &amp; interior trim|leather &amp; driver confidence package|leather-appointed seat trim|leather-wrapped steering wheel|low tire pressure warning|mp3 decoder|memory package|navtraffic|occupant sensing airbag|outside temperature display|overhead airbag|panic alarm|passenger door bin|passenger vanity mirror|power liftgate|power windows w/driver express-up &amp; down|power door mirrors|power driver seat|power steering|power windows|power-folding heated body-color outside mirrors|preferred equipment group 2lt|premium cloth seat trim|premium audio system: chevrolet mylink|radio data system|radio: chevrolet mylink am/fm stereo w/cd &amp; nav|radio: chevrolet mylink am/fm stereo w/cd player|rear audio system controls|rear park assist|rear parking sensors|rear power liftgate|rear air conditioning|rear anti-roll bar|rear audio controls|rear reading lights|rear window defroster|rear window wiper|remote vehicle start|remote keyless entry|roof rack: rails only|security system|side blind zone alert &amp; rear cross traffic alert|siriusxm satellite radio|speed control|spoiler|steering wheel mounted audio controls|tachometer|telescoping steering wheel|tilt steering wheel|traction control|trailer hitch|trailering equipment|tri-zone automatic climate control|trip computer|turn signal indicator mirrors|universal home remote|variably intermittent wipers|voltmeter</td>\n",
       "    </tr>\n",
       "    <tr>\n",
       "      <th>...</th>\n",
       "      <td>...</td>\n",
       "      <td>...</td>\n",
       "    </tr>\n",
       "    <tr>\n",
       "      <th>99995</th>\n",
       "      <td>2404937</td>\n",
       "      <td>this nissan won't be on the lot long! this car delivers affordable transportation inside an attractive four-door package with class leading standard safety features and a fuel efficient powertrain. all of the premium features expected of a nissan are offered, including: speed sensitive wipers, a built-in garage door transmitter, and air conditioning. it features a continuously variable transmission, front-wheel drive, and a 2.5 liter 4 cylinder engine. you will have a pleasant shopping experience that is fun, informative, and never high pressured. please don't hesitate to give us a call.[!@@additional info@@!]trunk organizer tray,body-colored splash guards,50 state emissions,mid-year change,chrome bumper protector,floor mats/trunk mat/hideaway net</td>\n",
       "    </tr>\n",
       "    <tr>\n",
       "      <th>99996</th>\n",
       "      <td>2987323</td>\n",
       "      <td>carfax 1-owner, bmw certified, great miles 25,108! fuel efficient 34 mpg hwy/23 mpg city! nav system, moonroof, heated seats, power liftgate tibbfx. only 25,108 miles! epa 34 mpg hwy/23 mpg city! nav system, power liftgate [!@@ nl @@!][!@@ nl @@!]key features include[!@@ nl @@!]sunroof, rear air, turbocharged, ipod/mp3 input, onboard communications system, aluminum wheels, dual zone a/c. steering wheel controls, child safety locks, heated mirrors, electronic stability control, bucket seats. [!@@ nl @@!][!@@ nl @@!]option packages[!@@ nl @@!]premium package comfort access keyless entry, lumbar support, siriusxm satellite radio, navigation system bmw online &amp; bmw apps, instrument cluster w/extended contents, advanced real-time traffic information, remote services, bmw connected app compatibility, driver assistance package rear view camera, park distance control, harman/kardon surround sound system, heated front seats, apple carplay compatibility. [!@@ nl @@!][!@@ nl @@!]purchase with confidence[!@@ nl @@!]1-year/unlimited miles plus balance of original new vehicle limited warranty (4-year/50,000-miles), 24/7 roadside assistance (even if someone else is driving your vehicle) , every vehicle is thoroughly inspected and reconditioned by bmw-certified technicians, trip interruption benefits are included, service loaner and/or alternate transport are included for the duration of your protection plan, additional plans are available to extend coverage, if desired [!@@ nl @@!][!@@ nl @@!]buy from an award winning dealer[!@@ nl @@!]welcome to bmw of san rafael. if you are searching for a new or pre-owned bmw in the san rafael area, our friendly, professional staff is ready to provide you with all the help you need. come in to bmw of san rafael to test drive your new vehicle today! [!@@ nl @@!][!@@ nl @@!]horsepower calculations based on trim engine configuration. fuel economy calculations based on original manufacturer data for trim engine configuration. please confirm the accuracy of the included equipment by calling us prior to purchase. [!@@ nl @@!][!@@additional info@@!]4 cylinder engine,4-wheel abs,4-wheel disc brakes,8-speed a/t,adjustable steering wheel,aluminum wheels,am/fm stereo,apple carplay,auto transmission w/manual mode,auto-off headlights,back-up camera,brake assist,bucket seats,child safety locks,cruise control,daytime running lights,driver air bag,driver illuminated vanity mirror,driver lumbar,driver vanity mirror,dual zone a/c,electrochromic rearview mirror,electronic stability control,fog lamps,front floor mats,gasoline fuel,hands-free liftgate,headlights-auto-leveling,heated driver seat,heated mirrors,hid headlights,integrated turn signal mirrors,intermittent wipers,ipod/mp3 input,keyless entry,keyless start,leather wrapped steering wheel,mirror memory,mp3 player,navigation,onboard communications system,pass-through rear seat,passenger air bag,passenger illuminated visor mirror,passenger lumbar,passenger vanity mirror,power door locks,power driver mirror,power driver seat,power liftgate,power passenger seat,power steering,power windows,premium sound system,rain sensing wipers,rear air,rear defrost,rear head air bag,rear wheel drive,remote trunk release,satellite radio,seat memory,side head air bag,smart device integration,steering wheel controls,sunroof,tire pressure monitoring system,tires - front performance,tires - rear performance,trip computer,turbocharged,universal garage door opener,variable speed intermittent wipers,vehicle anti-theft system,woodgrain interior trim</td>\n",
       "    </tr>\n",
       "    <tr>\n",
       "      <th>99997</th>\n",
       "      <td>332865</td>\n",
       "      <td>2006 ford focus zx4 duratec 2.0l i4 dohc fwd silver   mechanics special - sold \"as is\" due to age and miles... vehicle has not been serviced thru our shop... we've been in the lehigh valley since 1967, we'll be here tomorrow. come find out why kelly was voted the best place to buy an used car in the lehigh valley... ***kelly nissan in easton - your new nissan and used car dealer serving easton, nazareth, allentown, emmaus, phillipsburg, bethlehem, and the poconos***[!@@additional info@@!]4 speakers,am/fm radio,am/fm single cd/mp3 player w/clock,cd player,rear window defroster,power steering,four wheel independent suspension,dual front impact airbags,front anti-roll bar,occupant sensing airbag,bumpers: body-color,driver door bin,driver vanity mirror,passenger vanity mirror,cloth low-back bucket seats,front bucket seats,split folding rear seat,passenger door bin</td>\n",
       "    </tr>\n",
       "    <tr>\n",
       "      <th>99998</th>\n",
       "      <td>511594</td>\n",
       "      <td>recent arrival! this 2017 cadillac ats 2.0l turbo in black raven features: **leather**, ats 2.0l turbo, 4d sedan, 2.0l turbo i4 di dohc vvt, awd, black raven, jet black with jet black accents, 3.27 rear axle ratio, 4-wheel disc antilock brembo fr performance brakes, active aero grille, automatic stop/start, bluetooth for phone/audio, power sunroof, rear vision camera, standard equipment group 1sd, wireless charging. odometer is 11522 miles below market average! 22/30 city/highway mpg   see the rest of our inventory at hartwaymotors.com we do our best to display accurate information. however, please confirm the accuracy of the included equipment, price, availability, and vehicle information by calling and confirming with our sales department or sending a request online.[!@@additional info@@!]standard equipment group 1sd,10 speakers,am/fm radio: siriusxm,bose premium surround sound 10-speaker system,glove box mounted cd optical drive (lpo),radio data system,radio: cadillac cue info &amp; media control system,siriusxm &amp; hd audio system,air conditioning,automatic temperature control,front dual zone a/c,rear window defroster,power driver seat,power steering,power windows,remote keyless entry,remote start,steering wheel mounted audio controls,four wheel independent suspension,speed-sensing steering,traction control,4-wheel disc antilock brembo fr performance brakes,4-wheel disc brakes,abs brakes,dual front impact airbags,dual front side impact airbags,emergency communication system: onstar guidance,front anti-roll bar,knee airbag,low tire pressure warning,occupant sensing airbag,overhead airbag,rear anti-roll bar,power sunroof,brake assist,electronic stability control,exterior parking camera rear,rear vision camera,delay-off headlights,fully automatic headlights,panic alarm,speed control,automatic stop/start,active aero grille,bumpers: body-color,front license plate bracket,heated door mirrors,power door mirrors,apple carplay/android auto,bluetooth for phone/audio,compass,driver door bin,driver vanity mirror,front reading lights,illuminated entry,leather shift knob,outside temperature display,overhead console,passenger vanity mirror,premium all-weather floor mats,rear reading lights,rear seat center armrest,tachometer,telescoping steering wheel,tilt steering wheel,trip computer,voltmeter,wireless charging,front bucket seats,front center armrest,heated driver &amp; front passenger seats,leatherette seating surfaces,power passenger seat,passenger door bin,alloy wheels,wheels: 17\" x 8\" polished alloy,variably intermittent wipers,3.27 rear axle ratio,**leather**</td>\n",
       "    </tr>\n",
       "    <tr>\n",
       "      <th>99999</th>\n",
       "      <td>1151006</td>\n",
       "      <td>click here to watch live video of 2020 buick enclave! https://www.youtube.com/watch?v=wwdha7xfr30owners manual! backup camera! mats included! on start available! bluetooth compatible! usb port! aux port! am/fm radio! power windows! power locks! power mirrors! air conditioning! leather seats! heated seats!what is a branded title? https://www.youtube.com/watch?v=djssriz0q_swe can finance! we take trade in-s!call us at 404-935-6700car comes with 2 month/ 2400 mile warranty from our dealershipthe vehicle will come with a rebuilt title due to previous fresh water damage. vehicle was purchased from an insurance auction and some vehicles got claimed even though they had no damage to the vehicle this is one of them we had trained buyers out there finding the perfect car the vehicle has been inspected by the state of georgia and by an authorized dealer and serviced. this vehicle was claimed with thousands of vehicles and the insurance company didn't have time to go through each car and this one is a perfect vehicle. car must be financed from credit union or paid in cash we do have credit unions that we work with to finance you in this vehicle.this car has a branded title. learn why tens of thousands of americas x-treme auto customers agree that branded titles offer the best value. call come in for a test drive or visit axautos.com today. how has ax autos become the nations largest dealer of branded title vehicles? its simple  we offer spectacular selection of  inventory unbeatable prices and a 5-star buying experience. save thousands without sacrificing quality afford a newer model year higher trim level and lower miles than what you might have been expecting in your price range.what makes us different? we specialize in hand selecting our pre-owned inventory and providing an amazing array of vehicles on our lot here in atlanta ga. we keep about 100+ cars on the lot at any given time and find that being priced aggressively upfront allows us to save time complete the deal process and keep the best inventory possible.  all of our vehicles are priced below market value. we provide a hassle-free buying experience.call us at 404-935-6700 and let us help you get in this vehicle today.priced $6244 below retail valuesi hablamos espanolall cars at ax autos go through a 150 point inspectionthis car qualifies for our 5 year/100000 mile warranty ask us for detailsat ax autos all of our vehicles are meticulously inspected serviced and certified by our service department. not only do we offer the lowest pricing in the area we also offer you the best quality vehicles.need financing? banks compete hard to earn our customers business by aggressively working to get you the lowest possible interest rate available. get instant financing online now with approved credit prior to even stepping foot onto any of our dealerships.read our reviews. we are proud to have over thousands of  happy customers worldwide!ship your car! out of area customers now can have vehicles shipped right to their front door![!@@additional info@@!]abs brakes,air conditioning,alloy wheels,am/fm,am/fm radio,automatic headlights,aux audio jack,backup camera,bluetooth,child safety door locks,cruise control,driver airbag,driver multi-adjustable power seat,front heated seat,front power lumbar support,front side airbag,handsfree wireless,heated seats,leather seat,leather seats,on-star,owners manual,passenger airbag,passenger multi-adjustable power seat,power locks,power mirrors,power seats,power windows,run flat tires,satellite radio,side head curtain airbag,telescopic steering column,vehicle anti-theft,usb port</td>\n",
       "    </tr>\n",
       "  </tbody>\n",
       "</table>\n",
       "<p>100000 rows × 2 columns</p>\n",
       "</div>"
      ],
      "text/plain": [
       "            id  \\\n",
       "0      1386632   \n",
       "1      2702789   \n",
       "2      2254389   \n",
       "3      2974344   \n",
       "4       687231   \n",
       "...        ...   \n",
       "99995  2404937   \n",
       "99996  2987323   \n",
       "99997   332865   \n",
       "99998   511594   \n",
       "99999  1151006   \n",
       "\n",
       "                                                                                                                                                                                                                                                                                                                                                                                                                                                                                                                                                                                                                                                                                                                                                                                                                                                                                                                                                                                                                                                                                                                                                                                                                                                                                                                                                                                                                                                                                                                                                                                                                                                                                                                                                                                                                                                                                                                                                                                                                                                                                                                                                                                                                                                                                                                                                                                                                                                                                                                                                                                                                                                                                                                                                                                                                                                                                                                                                                                                                                                                                                                                                                                                                                                                                                                                                                                                                                                                                                                                                                                                                                                                                                                                                                                                                                                                                                                                                                                                                                                                                                                                                                                                                                                                                                                                                                                                                                                                                                                                                                                                                                                                                                                                                                                                                                                                                                                                                                                                                                                                                                                                                                                                                                                                                                                                                                                                                                                                                                                                                                                                                                                                                                                                                                                                                                                                                                                                                                                                     description  \n",
       "0      **low miles, dual zone automatic climate control, lx cool & connected package, radio: am/fm/cd/mp3/siriusxm w/uvo eservices, 3.51 axle ratio, 4-wheel disc brakes, 6 speakers, abs brakes, air conditioning, am/fm radio: siriusxm, anti-whiplash front head restraints, brake assist, bumpers: body-color, carpet floor mats (5 seat), cd player, delay-off headlights, driver door bin, driver vanity mirror, dual front impact airbags, dual front side impact airbags, electronic stability control, exterior parking camera rear, four wheel independent suspension, front anti-roll bar, front bucket seats, front center armrest, front reading lights, fully automatic headlights, heated door mirrors, illuminated entry, low tire pressure warning, occupant sensing airbag, outside temperature display, overhead airbag, overhead console, panic alarm, passenger door bin, passenger vanity mirror, power door mirrors, power steering, power windows, radio: am/fm/cd/mp3/siriusxm, rear anti-roll bar, rear seat center armrest, rear window defroster, rear window wiper, remote keyless entry, roof rack: rails only, security system, speed control, speed-sensing steering, split folding rear seat, spoiler, steering wheel mounted audio controls, tachometer, telescoping steering wheel, tilt steering wheel, traction control, trip computer, turn signal indicator mirrors, variably intermittent wipers, wheels: 17 x 7.0 alloy, yes essentials cloth seat trim, **clean vehicle history**, dual zone automatic climate control, lx cool & connected package, radio: am/fm/cd/mp3/siriusxm w/uvo eservices.sangria 2018 kia sorento lx 4d sport utility 6-speed automatic with sportmatic 2.4l dohc fwdodometer is 1179 miles below market average! priced below kbb fair purchase price!established in 1986 and employing nearly 450 people in nebraska and missouri, the anderson auto group family of dealerships is designed to be fast, fair, simple, & stress-free. anderson auto group offers new & quality pre-owned vehicles with competitive market pricing and a non-commissioned sales staff. complimentary benefits - see store for details vehicle history report on all pre-owned collision deductible reimbursement 48-hour return or exchange helping others - a portion of all sales at anderson auto group go to our 501c3 non-profit organization, because people matter. bpm partners with local nonprofits to provide vehicles and repair to those in need. mike anderson was one of 51 dealers nationwide to be nominated for the 2019 time dealer of the year award because of his support to our communities. interested in donating your vehicle (it can be in any condition) to help support your community? ask a salesperson today! 21/28 city/highway mpgawards:* 2018 kbb.com 10 most affordable 3-row vehiclesbecause people matter... we will serve your needs by always doing what is right.[!@@additional info@@!]lx cool & connected package,6 speakers,am/fm radio: siriusxm,cd player,radio: am/fm/cd/mp3/siriusxm,radio: am/fm/cd/mp3/siriusxm w/uvo eservices,air conditioning,dual zone automatic climate control,rear window defroster,power steering,power windows,remote keyless entry,steering wheel mounted audio controls,four wheel independent suspension,speed-sensing steering,traction control,4-wheel disc brakes,abs brakes,anti-whiplash front head restraints,dual front impact airbags,dual front side impact airbags,front anti-roll bar,low tire pressure warning,occupant sensing airbag,overhead airbag,rear anti-roll bar,brake assist,electronic stability control,exterior parking camera rear,delay-off headlights,fully automatic headlights,panic alarm,security system,speed control,bumpers: body-color,heated door mirrors,power door mirrors,roof rack: rails only,spoiler,turn signal indicator mirrors,carpet floor mats (5 seat),driver door bin,driver vanity mirror,front reading lights,illuminated entry,outside temperature display,overhead console,passenger vanity mirror,rear seat center armrest,tachometer,telescoping steering wheel,tilt steering wheel,trip computer,front bucket seats,front center armrest,split folding rear seat,yes essentials cloth seat trim,passenger door bin,wheels: 17\" x 7.0 alloy,rear window wiper,variably intermittent wipers,3.51 axle ratio,**low miles,**clean vehicle history**,sangria,carpet floor mats (5 seat),stone beige  yes essentials cloth seat trim,lx cool & connected package  -inc: dual zone automatic climate control  ionizing air purifier  radio: am/fm/cd/mp3/siriusxm w/uvo eservices  6-speakers  7\" touch screen  android auto  apple carplay  usb/auxiliary input jacks  2-rapid charge usb ports and bluetooth wireless technology,front wheel drive,power steering,abs,4-wheel disc brakes,brake assist,aluminum wheels,tires - front all-season,tires - rear all-season,temporary spare tire,heated mirrors,power mirror(s),integrated turn signal mirrors,rear defrost,privacy glass,intermittent wipers,variable speed intermittent wipers,rear spoiler,power door locks,automatic headlights,am/fm stereo,cd player,satellite radio,mp3 player,bluetooth connection,auxiliary audio input,requires subscription,mp3 player,steering wheel audio controls,hard disk drive media storage,bucket seats,pass-through rear seat,rear bench seat,adjustable steering wheel,trip computer,power windows,keyless entry,power door locks,cruise control,a/c,woodgrain interior trim,cloth seats,driver vanity mirror,passenger vanity mirror,driver illuminated vanity mirror,passenger illuminated visor mirror,power windows,power door locks,trip computer,security system,engine immobilizer,traction control,stability control,traction control,front side air bag,tire pressure monitor,driver air bag,passenger air bag,front head air bag,rear head air bag,passenger air bag sensor,child safety locks,back-up camera  \n",
       "1                                                                                                                                                                                                                                                                                                                                                                                                                                                                                                                                                                                                                                                                                                                                                                                                                                                                                                                                                                                                                                                                                                                                                                                                                                                                                                                                                                                                                                                                                                                                                                                                                                                                                                                                                                                                                         [!@@additional info@@!]front bumper color - body-color, grille color - black surround, grille color - chrome, rear bumper color - body-color, rear spoiler color - black, window trim - chrome, rear spoiler - roofline, steering ratio - 16.4, turns lock-to-lock - 3.5, air filtration, floor mat material - carpet, floor material - carpet, floor mats - front, front air conditioning - automatic climate control, front air conditioning zones - dual, rear air conditioning - automatic climate control, rear air conditioning zones - single, interior accents - chrome, floor mats - rear, floor mats - third row, armrests - rear center folding with storage, armrests - rear center with cupholders, assist handle - front, assist handle - rear, center console - front console with armrest and storage, cruise control, cupholders - front, cupholders - rear, easy entry - manual rear seat, multi-function remote - proximity entry system, multi-function remote - trunk release, steering wheel - tilt and telescopic, steering wheel mounted controls - audio, steering wheel mounted controls - phone, storage - cargo tie-down anchors and hooks, storage - door pockets, storage - front seatback, storage - grocery bag holder, storage - in dash, storage - rear seatback, storage - sunglasses holder, power outlet(s) - 12v cargo area, power outlet(s) - two 12v front, universal remote transmitter - homelink - garage door opener, power steering - variable/speed-proportional, conversation mirror, vanity mirrors - dual illuminating, storage - in floor, cupholders - third row, steering wheel mounted controls - cruise control, ambient lighting, cargo area light, courtesy lights - door, push-button start, reading lights - front, reading lights - rear, reading lights - third row, sunshade - side window, steering wheel mounted controls - multi-function, one-touch windows - 2, power windows - lockout button, abs - 4-wheel, electronic brakeforce distribution, front brake diameter - 12.6, front stabilizer bar - diameter 25 mm, front suspension classification - independent, power brakes, rear brake diameter - 13.1, rear suspension classification - independent, rear suspension type - multi-link, traction control, axle ratio - 4.25, front shock type - gas, front spring type - coil, front suspension type - lower control arms, rear shock type - gas, rear spring type - coil, front struts - macpherson, front brake type - ventilated disc, rear brake type - disc, cylinder deactivation, antenna type - element, auxiliary audio input - jack, auxiliary audio input - mp3, auxiliary audio input - usb, clock, external temperature display, fuel economy display - mpg, fuel economy display - range, hard drive - 2gb, in-dash cd - single disc, oil monitor, phone - pre-wired for phone, radio - am/fm, radio - touch screen display, speed sensitive volume control, subwoofer - 1, trip computer, trip odometer - 2, warnings and reminders - low fuel level, watts - 270, electronic messaging assistance - with read function, auxiliary audio input - bluetooth, wireless data link - bluetooth, in-dash cd - mp3 playback, total speakers - 7, gauge - tachometer, warnings and reminders - tire fill alert, infotainment - hondalink, daytime running lights, headlights - auto on/off, headlights - halogen, headlights - wiper activated, liftgate window - fixed, side door type - dual power sliding, taillights - led rear center, tire pressure monitoring system, spare tire mount location - inside, spare tire size - temporary, spare wheel type - steel, tire type - all season, wheels - alloy, front wipers - variable intermittent, rear privacy glass, rear quarter windows - power, rear wiper - intermittent, rear wiper - with washer, window defogger - rear, power windows - remotely operated, active head restraints - dual front, body side reinforcements - side impact door beams, crumple zones - front, front airbags - dual, impact absorbing bumpers, side airbags - front, side curtain airbags - front, side-curtain airbag rollover sensor, anti-theft system -  \n",
       "2                                                                                                                                                                                                                                                                                                                                                                                                                                                                                                                                                                                                                                                                                                                                                                                                                                                                                                                                                                                                                                                                                                                                                                                                                                                                                                                                                                                                                                                                                                                                                                                                                                                                                                                                                                                                                                                                                                                                                                                                                                                                         recent arrival! 8-speed automatic, 4wd, black cloth. chevrolet 2020 silverado 1500 lt ecotec3 5.3l v8 4wd 8-speed automatic summit white  all manufacturer's incentives and discounts applied. see dealer for details.[!@@additional info@@!]preferred equipment group 1lt,3.23 rear axle ratio,heavy-duty rear locking differential,wheels: 18\" x 8.5\" bright silver painted aluminum,wheels: 20\" x 9\" painted aluminum,wheel locks (set of 4) (lpo),40/20/40 front split bench seat,40/20/40 front split-bench seat,cloth seat trim,10-way power driver seat w/lumbar,cloth rear seat w/storage package,convenience package,convenience package ii,texas edition,single-zone manual/semi-automatic air conditioning,radio: chevrolet infotainment 3 system,radio: chevrolet infotainment 3 plus system,electronic cruise control,electric rear-window defogger,color-keyed carpeting floor covering,all-weather floor liner (lpo) (aak),onstar & chevrolet connected services capable,120-volt instrument panel power outlet,z71 off-road & protection package,bed protection package,chevytec spray-on black bedliner,deep-tinted glass,front license plate kit,led cargo area lighting,ez lift power lock & release tailgate,heavy duty suspension,off-road suspension,z71 off-road package,z71 off-road package w/vyu,trailering package,220 amps alternator,integrated trailer brake controller,skid plates,rear wheelhouse liners,high capacity air filter,siriusxm w/360l,4-way manual driver seat adjuster,power sliding rear window w/rear defogger,locking tailgate,rear 60/40 folding bench seat (folds up),chevrolet connected access capable,power front windows w/passenger express down,power rear windows w/express down,remote keyless entry,power door locks,keyless open & start,power front windows w/driver express up/down,front rubberized vinyl floor mats,rear rubberized-vinyl floor mats,bluetooth? for phone,remote vehicle starter system,dual-zone automatic climate control,compass,hitch guidance,chrome mirror caps,chrome grille,hill descent control,heated driver & front outboard passenger seats,external engine oil cooler,120-volt bed mounted power outlet,heated steering wheel,auxiliary external transmission oil cooler,12-volt rear auxiliary power outlet,170 amp alternator,2 usb ports,2 usb ports (first row),electrical lock control steering column,dual exhaust w/polished outlets,manual tilt wheel steering column,manual tilt/telescoping steering column,urethane steering wheel,single-speed transfer case,leather wrapped steering wheel,2-speed transfer case,texas edition badging,hd radio,4.2\" diagonal color display driver info center,universal home remote,steering wheel audio controls,rear dual usb charging-only ports,theft deterrent system (unauthorized entry),hd rear vision camera,rear vision camera,front frame-mounted black recovery hooks,4g lte wi-fi hot spot capable,door mirrors: chrome,4-wheel disc brakes,6 speakers,air conditioning,electronic stability control,tachometer,voltmeter,abs brakes,am/fm radio,alloy wheels,brake assist,bumpers: chrome,delay-off headlights,driver door bin,driver vanity mirror,dual front impact airbags,dual front side impact airbags,front anti-roll bar,front reading lights,front wheel independent suspension,fully automatic headlights,heated door mirrors,illuminated entry,low tire pressure warning,occupant sensing airbag,outside temperature display,overhead airbag,overhead console,panic alarm,passenger door bin,passenger vanity mirror,power door mirrors,power steering,power windows,radio data system,rear reading lights,rear step bumper,remote keyless entry,speed control,speed-sensing steering,split folding rear seat,steering wheel mounted audio controls,tilt steering wheel,traction control,trip computer,variably intermittent wipers,front center armrest w/storage  \n",
       "3                                                                                                                                                                                                                                                                                                                                                                                                                                                                                                                                                                                                                1 owner , 4wd , explorer sport , navigation, back up camera , heated and cooled seats , brand new tires , dual moon roof third row seats .  ************************* cargurus top rated dealer 2018, 2019, 2020 ************************ every car is back by a free 30 days 1000 mile warranty (restriction apply ) *********************** stop by our new location and enjoy the no pressure buying atmosphere. for over 12 years mag  has surpassed the standard by demonstrating unrivaled integrity and professionalism. *********************** we offer wide array of financing options for all types of credit including fresh bankruptcy and first time buyer programs , tier 1 rates starting @ 2.99% o.a.c *********************** mag also offers the most reliable extended warranty and tire/wheel protection packages even on exotic and performance cars . *********************** prices may not include additional fees such as government fees and taxes, title and registration fees, finance charges, dealer document preparation fees, processing fees, and emission testing and compliance charges or any preinstalled accessories such as theft prevention and tracking device[!@@additional info@@!]body side moldings - black, door handle color - black, front bumper color - body-color, grille color - black, mirror color - body-color, rear bumper color - body-color, rear spoiler color - body-color, rocker panel color - black, skid plate(s) - front, window trim - black, rear spoiler - roofline, exhaust - dual tip, skid plate(s) - rear, steering ratio - 17.1, air filtration, dash trim - alloy, door sill trim - illuminated scuff plate, door trim - alloy, floor mat material - premium carpet, floor material - carpet, floor mats - front, front air conditioning - automatic climate control, front air conditioning zones - dual, heated steering wheel, shift knob trim - leather, steering wheel trim - leather, floor mats - rear, rear heat - independently controlled, assist handle - front, assist handle - rear, capless fuel filler system, center console - front console with armrest and storage, cruise control, cupholders - front, power steering, remote engine start, retained accessory power, steering wheel - tilt and telescopic, steering wheel mounted controls - audio, steering wheel mounted controls - paddle shifter, storage - cargo net, storage - cargo tie-down anchors and hooks, storage - door pockets, storage - front seatback, power outlet(s) - 12v cargo area, keypad entry, multi-function remote - illuminated entry, overhead console - front, cupholders - third row, steering wheel mounted controls - cruise control, cargo area light, push-button start, reading lights - front, reading lights - rear, reading lights - third row, one-touch windows - 1, power windows - lockout button, steering wheel mounted controls - voice control, rearview mirror - auto-dimming, 4wd type - full time, abs - 4-wheel, braking assist, center differential - mechanical, electronic brakeforce distribution, front brake diameter - 13.9, front brake width - 1.25, front stabilizer bar - diameter 32 mm, front suspension classification - independent, power brakes, rear brake diameter - 13.5, rear brake width - 0.75, rear stabilizer bar - diameter 22 mm, rear suspension classification - independent, rear suspension type - multi-link, roll stability control, stability control, traction control, hill descent control, hill holder control, front spring type - coil, front suspension type - lower control arms, rear shock type - twin-tube gas, rear spring type - coil, tuned suspension - sport, front struts - macpherson, front brake type - ventilated disc, rear brake type - ventilated disc, battery - maintenance-free, battery saver, battery rating - 650 cca, antenna type - diversity, antenna type - mast, auxiliary audio input - usb, clock, compass, digital odometer, external temperature display, in-dash cd - single disc, multi-function display, navigation system - touch screen display, radio - am/fm, radio - hd radio, radio - touch screen display, real time traffic, satellite radio - siriusxm, trip computer, trip odometer, warnings and reminders - low fuel level, warnings and reminders - low oil level, watts - 390, auxiliary audio input - bluetooth, wireless data link - bluetooth, surround sound - 5.1, in-dash cd - mp3 playback, total speakers - 12, gauge - tachometer, infotainment - android auto ready, infotainment - apple carplay ready, infotainment - sync, electronic messaging assistance - voice operated, navigation system - voice operated, phone - voice operated, radio - voice operated, warnings and reminders - maintenance due, connected in-car apps - google pois, connected in-car apps - google search, connected in-car apps - siriusxm travel link, infotainment screen size - 8 in., instrument cluster screen size - 4.2 in. (dual), daytime running lights, exterior entry lights - puddle lamps, exterior entry lights - security approach lamps, headlights - auto delay off, headlights - auto on/off, headlights - led, liftgate window - fixed, rear door type - power liftgate, taillights - led, front fog lights - led, rear door type - sensor-activated, tire pressure monitoring syst  \n",
       "4                                                                                                                                                                                                                                                                                                                                                                                                                                                                                                                                                                                                                                                                                                                                                                                                                                                                                                                                                                                                                                                                                                                                                                                                                                                                                                                                                                                                                                                                                                                                                                                                                                                                                                                                                                                                                                                                                                                                                                                                                                                                                                                                                                                                                                                                                                                                                                                                                                                                                                                 carfax one-owner. clean carfax. 2017 chevrolet traverse 2lt 2lt summit white 6-speed automatic 3.6l v6 sidi awards:  * 2017  10 most awarded brands odometer is 12319 miles below market average!   welcome to lawrence chevrolet, where we pride ourselves on our years of providing trustworthy, honest customer service. we've been your local mechanicsburg chevrolet dealer since 1980, and hope to continue filling all your automotive needs for years to come. it takes a stellar customer service staff to live up to the industry's expectations for outstanding service, and we routinely succeed in pleasing our loyal customers. more reasons why there's lots to love at lawrence!!![!@@additional info@@!]10 speakers|18\" x 7.5\" machined aluminum wheels|3.16 axle ratio|3rd row seats: split-bench|4-wheel disc brakes|7-passenger seating (2-2-3 seating configuration)|8-way power driver seat|8-way power driver seat w/power lumbar|8-way power passenger seat adjuster|abs brakes|am/fm radio: siriusxm|air conditioning|alloy wheels|auto-dimming inside rear-view mirror|auto-dimming rear-view mirror|automatic temperature control|bluetooth for phone|body-color bodyside moldings|body-color heated power-adjustable outside mirrors|bodyside moldings|bose premium 10-speaker audio system feature|brake assist|bumpers: body-color|cd player|color touch navigation system|compass|delay-off headlights|driver door bin|driver vanity mirror|dual front impact airbags|dual front side impact airbags|electronic stability control|emergency communication system|enhanced driver information center|exterior parking camera rear|four wheel independent suspension|front bucket seats|front center armrest w/storage|front fog lamps|front anti-roll bar|front dual zone a/c|front fog lights|front reading lights|frontal & side-impact airbags|fully automatic headlights|garage door transmitter|heated driver & front passenger seats|heated door mirrors|heated front seats|heavy-duty cooling system|illuminated entry|interior wood grain center stack & interior trim|leather & driver confidence package|leather-appointed seat trim|leather-wrapped steering wheel|low tire pressure warning|mp3 decoder|memory package|navtraffic|occupant sensing airbag|outside temperature display|overhead airbag|panic alarm|passenger door bin|passenger vanity mirror|power liftgate|power windows w/driver express-up & down|power door mirrors|power driver seat|power steering|power windows|power-folding heated body-color outside mirrors|preferred equipment group 2lt|premium cloth seat trim|premium audio system: chevrolet mylink|radio data system|radio: chevrolet mylink am/fm stereo w/cd & nav|radio: chevrolet mylink am/fm stereo w/cd player|rear audio system controls|rear park assist|rear parking sensors|rear power liftgate|rear air conditioning|rear anti-roll bar|rear audio controls|rear reading lights|rear window defroster|rear window wiper|remote vehicle start|remote keyless entry|roof rack: rails only|security system|side blind zone alert & rear cross traffic alert|siriusxm satellite radio|speed control|spoiler|steering wheel mounted audio controls|tachometer|telescoping steering wheel|tilt steering wheel|traction control|trailer hitch|trailering equipment|tri-zone automatic climate control|trip computer|turn signal indicator mirrors|universal home remote|variably intermittent wipers|voltmeter  \n",
       "...                                                                                                                                                                                                                                                                                                                                                                                                                                                                                                                                                                                                                                                                                                                                                                                                                                                                                                                                                                                                                                                                                                                                                                                                                                                                                                                                                                                                                                                                                                                                                                                                                                                                                                                                                                                                                                                                                                                                                                                                                                                                                                                                                                                                                                                                                                                                                                                                                                                                                                                                                                                                                                                                                                                                                                                                                                                                                                                                                                                                                                                                                                                                                                                                                                                                                                                                                                                                                                                                                                                                                                                                                                                                                                                                                                                                                                                                                                                                                                                                                                                                                                                                                                                                                                                                                                                                                                                                                                                                                                                                                                                                                                                                                                                                                                                                                                                                                                                                                                                                                                                                                                                                                                                                                                                                                                                                                                                                                                                                                                                                                                                                                                                                                                                                                                                                                                                                                                                                                                                                          ...  \n",
       "99995                                                                                                                                                                                                                                                                                                                                                                                                                                                                                                                                                                                                                                                                                                                                                                                                                                                                                                                                                                                                                                                                                                                                                                                                                                                                                                                                                                                                                                                                                                                                                                                                                                                                                                                                                                                                                                                                                                                                                                                                                                                                                                                                                                                                                                                                                                                                                                                                                                                                                                                                                                                                                                                                                                                                                                                                                                                                                                                                                                                                                                                                                                                                                                                                                                                                                                                                                                                                                                                                                                                                                                                                                                                                                                                                                                                                                                                                                                                                                                                                                                                                                                                                                                                                                                                                                                                                                                                                                                                                                                                                                                                                                                                                                                                                                                                                                                                                                                                                                                                                                                                                                                                                                                                                                      this nissan won't be on the lot long! this car delivers affordable transportation inside an attractive four-door package with class leading standard safety features and a fuel efficient powertrain. all of the premium features expected of a nissan are offered, including: speed sensitive wipers, a built-in garage door transmitter, and air conditioning. it features a continuously variable transmission, front-wheel drive, and a 2.5 liter 4 cylinder engine. you will have a pleasant shopping experience that is fun, informative, and never high pressured. please don't hesitate to give us a call.[!@@additional info@@!]trunk organizer tray,body-colored splash guards,50 state emissions,mid-year change,chrome bumper protector,floor mats/trunk mat/hideaway net  \n",
       "99996                                                                                                                                                                                                                                                                                                                                                                                                                                                                                                                                                                                                                                                                                                                                                                                                                                                                                                                                                                                                                                                                                                                                                                                                                                                                                                                                                                                                                                                                                                                                                                                                                                                                                                                                                                                                                                                                                                                                                                                                                                                                                                                                                                                                                                                                                                                 carfax 1-owner, bmw certified, great miles 25,108! fuel efficient 34 mpg hwy/23 mpg city! nav system, moonroof, heated seats, power liftgate tibbfx. only 25,108 miles! epa 34 mpg hwy/23 mpg city! nav system, power liftgate [!@@ nl @@!][!@@ nl @@!]key features include[!@@ nl @@!]sunroof, rear air, turbocharged, ipod/mp3 input, onboard communications system, aluminum wheels, dual zone a/c. steering wheel controls, child safety locks, heated mirrors, electronic stability control, bucket seats. [!@@ nl @@!][!@@ nl @@!]option packages[!@@ nl @@!]premium package comfort access keyless entry, lumbar support, siriusxm satellite radio, navigation system bmw online & bmw apps, instrument cluster w/extended contents, advanced real-time traffic information, remote services, bmw connected app compatibility, driver assistance package rear view camera, park distance control, harman/kardon surround sound system, heated front seats, apple carplay compatibility. [!@@ nl @@!][!@@ nl @@!]purchase with confidence[!@@ nl @@!]1-year/unlimited miles plus balance of original new vehicle limited warranty (4-year/50,000-miles), 24/7 roadside assistance (even if someone else is driving your vehicle) , every vehicle is thoroughly inspected and reconditioned by bmw-certified technicians, trip interruption benefits are included, service loaner and/or alternate transport are included for the duration of your protection plan, additional plans are available to extend coverage, if desired [!@@ nl @@!][!@@ nl @@!]buy from an award winning dealer[!@@ nl @@!]welcome to bmw of san rafael. if you are searching for a new or pre-owned bmw in the san rafael area, our friendly, professional staff is ready to provide you with all the help you need. come in to bmw of san rafael to test drive your new vehicle today! [!@@ nl @@!][!@@ nl @@!]horsepower calculations based on trim engine configuration. fuel economy calculations based on original manufacturer data for trim engine configuration. please confirm the accuracy of the included equipment by calling us prior to purchase. [!@@ nl @@!][!@@additional info@@!]4 cylinder engine,4-wheel abs,4-wheel disc brakes,8-speed a/t,adjustable steering wheel,aluminum wheels,am/fm stereo,apple carplay,auto transmission w/manual mode,auto-off headlights,back-up camera,brake assist,bucket seats,child safety locks,cruise control,daytime running lights,driver air bag,driver illuminated vanity mirror,driver lumbar,driver vanity mirror,dual zone a/c,electrochromic rearview mirror,electronic stability control,fog lamps,front floor mats,gasoline fuel,hands-free liftgate,headlights-auto-leveling,heated driver seat,heated mirrors,hid headlights,integrated turn signal mirrors,intermittent wipers,ipod/mp3 input,keyless entry,keyless start,leather wrapped steering wheel,mirror memory,mp3 player,navigation,onboard communications system,pass-through rear seat,passenger air bag,passenger illuminated visor mirror,passenger lumbar,passenger vanity mirror,power door locks,power driver mirror,power driver seat,power liftgate,power passenger seat,power steering,power windows,premium sound system,rain sensing wipers,rear air,rear defrost,rear head air bag,rear wheel drive,remote trunk release,satellite radio,seat memory,side head air bag,smart device integration,steering wheel controls,sunroof,tire pressure monitoring system,tires - front performance,tires - rear performance,trip computer,turbocharged,universal garage door opener,variable speed intermittent wipers,vehicle anti-theft system,woodgrain interior trim  \n",
       "99997                                                                                                                                                                                                                                                                                                                                                                                                                                                                                                                                                                                                                                                                                                                                                                                                                                                                                                                                                                                                                                                                                                                                                                                                                                                                                                                                                                                                                                                                                                                                                                                                                                                                                                                                                                                                                                                                                                                                                                                                                                                                                                                                                                                                                                                                                                                                                                                                                                                                                                                                                                                                                                                                                                                                                                                                                                                                                                                                                                                                                                                                                                                                                                                                                                                                                                                                                                                                                                                                                                                                                                                                                                                                                                                                                                                                                                                                                                                                                                                                                                                                                                                                                                                                                                                                                                                                                                                                                                                                                                                                                                                                                                                                                                                                                                                                                                                                                                                                                                                                                                                                                                   2006 ford focus zx4 duratec 2.0l i4 dohc fwd silver   mechanics special - sold \"as is\" due to age and miles... vehicle has not been serviced thru our shop... we've been in the lehigh valley since 1967, we'll be here tomorrow. come find out why kelly was voted the best place to buy an used car in the lehigh valley... ***kelly nissan in easton - your new nissan and used car dealer serving easton, nazareth, allentown, emmaus, phillipsburg, bethlehem, and the poconos***[!@@additional info@@!]4 speakers,am/fm radio,am/fm single cd/mp3 player w/clock,cd player,rear window defroster,power steering,four wheel independent suspension,dual front impact airbags,front anti-roll bar,occupant sensing airbag,bumpers: body-color,driver door bin,driver vanity mirror,passenger vanity mirror,cloth low-back bucket seats,front bucket seats,split folding rear seat,passenger door bin  \n",
       "99998                                                                                                                                                                                                                                                                                                                                                                                                                                                                                                                                                                                                                                                                                                                                                                                                                                                                                                                                                                                                                                                                                                                                                                                                                                                                                                                                                                                                                                                                                                                                                                                                                                                                                                                                                                                                                                                                                                                                                                                                                                                                                                                                                                                                                                                                                                                                                                                                                                                                                                                                                                                                                                                                                                                                                                                                                                                                                                                                                                                                                                                                                                                                                                                                                                                                                                             recent arrival! this 2017 cadillac ats 2.0l turbo in black raven features: **leather**, ats 2.0l turbo, 4d sedan, 2.0l turbo i4 di dohc vvt, awd, black raven, jet black with jet black accents, 3.27 rear axle ratio, 4-wheel disc antilock brembo fr performance brakes, active aero grille, automatic stop/start, bluetooth for phone/audio, power sunroof, rear vision camera, standard equipment group 1sd, wireless charging. odometer is 11522 miles below market average! 22/30 city/highway mpg   see the rest of our inventory at hartwaymotors.com we do our best to display accurate information. however, please confirm the accuracy of the included equipment, price, availability, and vehicle information by calling and confirming with our sales department or sending a request online.[!@@additional info@@!]standard equipment group 1sd,10 speakers,am/fm radio: siriusxm,bose premium surround sound 10-speaker system,glove box mounted cd optical drive (lpo),radio data system,radio: cadillac cue info & media control system,siriusxm & hd audio system,air conditioning,automatic temperature control,front dual zone a/c,rear window defroster,power driver seat,power steering,power windows,remote keyless entry,remote start,steering wheel mounted audio controls,four wheel independent suspension,speed-sensing steering,traction control,4-wheel disc antilock brembo fr performance brakes,4-wheel disc brakes,abs brakes,dual front impact airbags,dual front side impact airbags,emergency communication system: onstar guidance,front anti-roll bar,knee airbag,low tire pressure warning,occupant sensing airbag,overhead airbag,rear anti-roll bar,power sunroof,brake assist,electronic stability control,exterior parking camera rear,rear vision camera,delay-off headlights,fully automatic headlights,panic alarm,speed control,automatic stop/start,active aero grille,bumpers: body-color,front license plate bracket,heated door mirrors,power door mirrors,apple carplay/android auto,bluetooth for phone/audio,compass,driver door bin,driver vanity mirror,front reading lights,illuminated entry,leather shift knob,outside temperature display,overhead console,passenger vanity mirror,premium all-weather floor mats,rear reading lights,rear seat center armrest,tachometer,telescoping steering wheel,tilt steering wheel,trip computer,voltmeter,wireless charging,front bucket seats,front center armrest,heated driver & front passenger seats,leatherette seating surfaces,power passenger seat,passenger door bin,alloy wheels,wheels: 17\" x 8\" polished alloy,variably intermittent wipers,3.27 rear axle ratio,**leather**  \n",
       "99999                                                                                                                                                                                                                                                                                                                                                                                                                                                                                                                                                                                                                                                                                                                                                                                                                                                                                                                                                                                                                                                                                                                                                                                                                                                                                                                                                                                                                                                                                                                                                                                                                                                                                                                                                                                                                                                                                                                                                                                                                                                                                                                                                                                                                                              click here to watch live video of 2020 buick enclave! https://www.youtube.com/watch?v=wwdha7xfr30owners manual! backup camera! mats included! on start available! bluetooth compatible! usb port! aux port! am/fm radio! power windows! power locks! power mirrors! air conditioning! leather seats! heated seats!what is a branded title? https://www.youtube.com/watch?v=djssriz0q_swe can finance! we take trade in-s!call us at 404-935-6700car comes with 2 month/ 2400 mile warranty from our dealershipthe vehicle will come with a rebuilt title due to previous fresh water damage. vehicle was purchased from an insurance auction and some vehicles got claimed even though they had no damage to the vehicle this is one of them we had trained buyers out there finding the perfect car the vehicle has been inspected by the state of georgia and by an authorized dealer and serviced. this vehicle was claimed with thousands of vehicles and the insurance company didn't have time to go through each car and this one is a perfect vehicle. car must be financed from credit union or paid in cash we do have credit unions that we work with to finance you in this vehicle.this car has a branded title. learn why tens of thousands of americas x-treme auto customers agree that branded titles offer the best value. call come in for a test drive or visit axautos.com today. how has ax autos become the nations largest dealer of branded title vehicles? its simple  we offer spectacular selection of  inventory unbeatable prices and a 5-star buying experience. save thousands without sacrificing quality afford a newer model year higher trim level and lower miles than what you might have been expecting in your price range.what makes us different? we specialize in hand selecting our pre-owned inventory and providing an amazing array of vehicles on our lot here in atlanta ga. we keep about 100+ cars on the lot at any given time and find that being priced aggressively upfront allows us to save time complete the deal process and keep the best inventory possible.  all of our vehicles are priced below market value. we provide a hassle-free buying experience.call us at 404-935-6700 and let us help you get in this vehicle today.priced $6244 below retail valuesi hablamos espanolall cars at ax autos go through a 150 point inspectionthis car qualifies for our 5 year/100000 mile warranty ask us for detailsat ax autos all of our vehicles are meticulously inspected serviced and certified by our service department. not only do we offer the lowest pricing in the area we also offer you the best quality vehicles.need financing? banks compete hard to earn our customers business by aggressively working to get you the lowest possible interest rate available. get instant financing online now with approved credit prior to even stepping foot onto any of our dealerships.read our reviews. we are proud to have over thousands of  happy customers worldwide!ship your car! out of area customers now can have vehicles shipped right to their front door![!@@additional info@@!]abs brakes,air conditioning,alloy wheels,am/fm,am/fm radio,automatic headlights,aux audio jack,backup camera,bluetooth,child safety door locks,cruise control,driver airbag,driver multi-adjustable power seat,front heated seat,front power lumbar support,front side airbag,handsfree wireless,heated seats,leather seat,leather seats,on-star,owners manual,passenger airbag,passenger multi-adjustable power seat,power locks,power mirrors,power seats,power windows,run flat tires,satellite radio,side head curtain airbag,telescopic steering column,vehicle anti-theft,usb port  \n",
       "\n",
       "[100000 rows x 2 columns]"
      ]
     },
     "execution_count": 24,
     "metadata": {},
     "output_type": "execute_result"
    }
   ],
   "source": [
    "desc['description'] = desc.description.str.lower()\n",
    "desc"
   ]
  },
  {
   "cell_type": "code",
   "execution_count": 25,
   "id": "e76e6f61",
   "metadata": {
    "pycharm": {
     "name": "#%%\n"
    }
   },
   "outputs": [
    {
     "data": {
      "text/plain": [
       "0        5769.0\n",
       "1        4022.0\n",
       "2        3782.0\n",
       "3        5183.0\n",
       "4        3358.0\n",
       "          ...  \n",
       "99995     757.0\n",
       "99996    3546.0\n",
       "99997     872.0\n",
       "99998    2590.0\n",
       "99999    3613.0\n",
       "Name: description, Length: 100000, dtype: float64"
      ]
     },
     "execution_count": 25,
     "metadata": {},
     "output_type": "execute_result"
    }
   ],
   "source": [
    "desc_lengths = desc['description'].str.len()\n",
    "desc_lengths"
   ]
  },
  {
   "cell_type": "code",
   "execution_count": 26,
   "id": "00fc3c82",
   "metadata": {
    "pycharm": {
     "name": "#%%\n"
    }
   },
   "outputs": [
    {
     "data": {
      "image/png": "[encoded data removed]",
      "text/plain": [
       "<Figure size 432x288 with 1 Axes>"
      ]
     },
     "metadata": {},
     "output_type": "display_data"
    }
   ],
   "source": [
    "plt.hist(desc_lengths, bins=20, range=(0, 10000))\n",
    "plt.show()"
   ]
  },
  {
   "cell_type": "markdown",
   "id": "82c81c02",
   "metadata": {
    "pycharm": {
     "name": "#%% md\n"
    }
   },
   "source": [
    "## Tokenize"
   ]
  },
  {
   "cell_type": "code",
   "execution_count": 27,
   "id": "17cccf18",
   "metadata": {
    "pycharm": {
     "name": "#%%\n"
    }
   },
   "outputs": [],
   "source": [
    "from nltk.tokenize import wordpunct_tokenize"
   ]
  },
  {
   "cell_type": "code",
   "execution_count": 28,
   "id": "2f6a7de3",
   "metadata": {
    "pycharm": {
     "name": "#%%\n"
    }
   },
   "outputs": [
    {
     "name": "stderr",
     "output_type": "stream",
     "text": [
      "/var/folders/w5/ss0d86s13hv0lvf5_8nlgbpw0000gn/T/ipykernel_5624/2475140295.py:1: SettingWithCopyWarning: \n",
      "A value is trying to be set on a copy of a slice from a DataFrame.\n",
      "Try using .loc[row_indexer,col_indexer] = value instead\n",
      "\n",
      "See the caveats in the documentation: https://pandas.pydata.org/pandas-docs/stable/user_guide/indexing.html#returning-a-view-versus-a-copy\n",
      "  desc['split_desc'] = desc.description.apply(lambda x: wordpunct_tokenize(str(x).replace(\"'\",\"\")))\n"
     ]
    }
   ],
   "source": [
    "desc['split_desc'] = desc.description.apply(lambda x: wordpunct_tokenize(str(x).replace(\"'\",\"\")))"
   ]
  },
  {
   "cell_type": "code",
   "execution_count": 29,
   "id": "f6383388",
   "metadata": {
    "pycharm": {
     "name": "#%%\n"
    }
   },
   "outputs": [
    {
     "data": {
      "text/plain": [
       "['**',\n",
       " 'low',\n",
       " 'miles',\n",
       " ',',\n",
       " 'dual',\n",
       " 'zone',\n",
       " 'automatic',\n",
       " 'climate',\n",
       " 'control',\n",
       " ',',\n",
       " 'lx',\n",
       " 'cool',\n",
       " '&',\n",
       " 'connected',\n",
       " 'package',\n",
       " ',',\n",
       " 'radio',\n",
       " ':',\n",
       " 'am',\n",
       " '/',\n",
       " 'fm',\n",
       " '/',\n",
       " 'cd',\n",
       " '/',\n",
       " 'mp3',\n",
       " '/',\n",
       " 'siriusxm',\n",
       " 'w',\n",
       " '/',\n",
       " 'uvo',\n",
       " 'eservices',\n",
       " ',',\n",
       " '3',\n",
       " '.',\n",
       " '51',\n",
       " 'axle',\n",
       " 'ratio',\n",
       " ',',\n",
       " '4',\n",
       " '-',\n",
       " 'wheel',\n",
       " 'disc',\n",
       " 'brakes',\n",
       " ',',\n",
       " '6',\n",
       " 'speakers',\n",
       " ',',\n",
       " 'abs',\n",
       " 'brakes',\n",
       " ',',\n",
       " 'air',\n",
       " 'conditioning',\n",
       " ',',\n",
       " 'am',\n",
       " '/',\n",
       " 'fm',\n",
       " 'radio',\n",
       " ':',\n",
       " 'siriusxm',\n",
       " ',',\n",
       " 'anti',\n",
       " '-',\n",
       " 'whiplash',\n",
       " 'front',\n",
       " 'head',\n",
       " 'restraints',\n",
       " ',',\n",
       " 'brake',\n",
       " 'assist',\n",
       " ',',\n",
       " 'bumpers',\n",
       " ':',\n",
       " 'body',\n",
       " '-',\n",
       " 'color',\n",
       " ',',\n",
       " 'carpet',\n",
       " 'floor',\n",
       " 'mats',\n",
       " '(',\n",
       " '5',\n",
       " 'seat',\n",
       " '),',\n",
       " 'cd',\n",
       " 'player',\n",
       " ',',\n",
       " 'delay',\n",
       " '-',\n",
       " 'off',\n",
       " 'headlights',\n",
       " ',',\n",
       " 'driver',\n",
       " 'door',\n",
       " 'bin',\n",
       " ',',\n",
       " 'driver',\n",
       " 'vanity',\n",
       " 'mirror',\n",
       " ',',\n",
       " 'dual',\n",
       " 'front',\n",
       " 'impact',\n",
       " 'airbags',\n",
       " ',',\n",
       " 'dual',\n",
       " 'front',\n",
       " 'side',\n",
       " 'impact',\n",
       " 'airbags',\n",
       " ',',\n",
       " 'electronic',\n",
       " 'stability',\n",
       " 'control',\n",
       " ',',\n",
       " 'exterior',\n",
       " 'parking',\n",
       " 'camera',\n",
       " 'rear',\n",
       " ',',\n",
       " 'four',\n",
       " 'wheel',\n",
       " 'independent',\n",
       " 'suspension',\n",
       " ',',\n",
       " 'front',\n",
       " 'anti',\n",
       " '-',\n",
       " 'roll',\n",
       " 'bar',\n",
       " ',',\n",
       " 'front',\n",
       " 'bucket',\n",
       " 'seats',\n",
       " ',',\n",
       " 'front',\n",
       " 'center',\n",
       " 'armrest',\n",
       " ',',\n",
       " 'front',\n",
       " 'reading',\n",
       " 'lights',\n",
       " ',',\n",
       " 'fully',\n",
       " 'automatic',\n",
       " 'headlights',\n",
       " ',',\n",
       " 'heated',\n",
       " 'door',\n",
       " 'mirrors',\n",
       " ',',\n",
       " 'illuminated',\n",
       " 'entry',\n",
       " ',',\n",
       " 'low',\n",
       " 'tire',\n",
       " 'pressure',\n",
       " 'warning',\n",
       " ',',\n",
       " 'occupant',\n",
       " 'sensing',\n",
       " 'airbag',\n",
       " ',',\n",
       " 'outside',\n",
       " 'temperature',\n",
       " 'display',\n",
       " ',',\n",
       " 'overhead',\n",
       " 'airbag',\n",
       " ',',\n",
       " 'overhead',\n",
       " 'console',\n",
       " ',',\n",
       " 'panic',\n",
       " 'alarm',\n",
       " ',',\n",
       " 'passenger',\n",
       " 'door',\n",
       " 'bin',\n",
       " ',',\n",
       " 'passenger',\n",
       " 'vanity',\n",
       " 'mirror',\n",
       " ',',\n",
       " 'power',\n",
       " 'door',\n",
       " 'mirrors',\n",
       " ',',\n",
       " 'power',\n",
       " 'steering',\n",
       " ',',\n",
       " 'power',\n",
       " 'windows',\n",
       " ',',\n",
       " 'radio',\n",
       " ':',\n",
       " 'am',\n",
       " '/',\n",
       " 'fm',\n",
       " '/',\n",
       " 'cd',\n",
       " '/',\n",
       " 'mp3',\n",
       " '/',\n",
       " 'siriusxm',\n",
       " ',',\n",
       " 'rear',\n",
       " 'anti',\n",
       " '-',\n",
       " 'roll',\n",
       " 'bar',\n",
       " ',',\n",
       " 'rear',\n",
       " 'seat',\n",
       " 'center',\n",
       " 'armrest',\n",
       " ',',\n",
       " 'rear',\n",
       " 'window',\n",
       " 'defroster',\n",
       " ',',\n",
       " 'rear',\n",
       " 'window',\n",
       " 'wiper',\n",
       " ',',\n",
       " 'remote',\n",
       " 'keyless',\n",
       " 'entry',\n",
       " ',',\n",
       " 'roof',\n",
       " 'rack',\n",
       " ':',\n",
       " 'rails',\n",
       " 'only',\n",
       " ',',\n",
       " 'security',\n",
       " 'system',\n",
       " ',',\n",
       " 'speed',\n",
       " 'control',\n",
       " ',',\n",
       " 'speed',\n",
       " '-',\n",
       " 'sensing',\n",
       " 'steering',\n",
       " ',',\n",
       " 'split',\n",
       " 'folding',\n",
       " 'rear',\n",
       " 'seat',\n",
       " ',',\n",
       " 'spoiler',\n",
       " ',',\n",
       " 'steering',\n",
       " 'wheel',\n",
       " 'mounted',\n",
       " 'audio',\n",
       " 'controls',\n",
       " ',',\n",
       " 'tachometer',\n",
       " ',',\n",
       " 'telescoping',\n",
       " 'steering',\n",
       " 'wheel',\n",
       " ',',\n",
       " 'tilt',\n",
       " 'steering',\n",
       " 'wheel',\n",
       " ',',\n",
       " 'traction',\n",
       " 'control',\n",
       " ',',\n",
       " 'trip',\n",
       " 'computer',\n",
       " ',',\n",
       " 'turn',\n",
       " 'signal',\n",
       " 'indicator',\n",
       " 'mirrors',\n",
       " ',',\n",
       " 'variably',\n",
       " 'intermittent',\n",
       " 'wipers',\n",
       " ',',\n",
       " 'wheels',\n",
       " ':',\n",
       " '17',\n",
       " 'x',\n",
       " '7',\n",
       " '.',\n",
       " '0',\n",
       " 'alloy',\n",
       " ',',\n",
       " 'yes',\n",
       " 'essentials',\n",
       " 'cloth',\n",
       " 'seat',\n",
       " 'trim',\n",
       " ',',\n",
       " '**',\n",
       " 'clean',\n",
       " 'vehicle',\n",
       " 'history',\n",
       " '**,',\n",
       " 'dual',\n",
       " 'zone',\n",
       " 'automatic',\n",
       " 'climate',\n",
       " 'control',\n",
       " ',',\n",
       " 'lx',\n",
       " 'cool',\n",
       " '&',\n",
       " 'connected',\n",
       " 'package',\n",
       " ',',\n",
       " 'radio',\n",
       " ':',\n",
       " 'am',\n",
       " '/',\n",
       " 'fm',\n",
       " '/',\n",
       " 'cd',\n",
       " '/',\n",
       " 'mp3',\n",
       " '/',\n",
       " 'siriusxm',\n",
       " 'w',\n",
       " '/',\n",
       " 'uvo',\n",
       " 'eservices',\n",
       " '.',\n",
       " 'sangria',\n",
       " '2018',\n",
       " 'kia',\n",
       " 'sorento',\n",
       " 'lx',\n",
       " '4d',\n",
       " 'sport',\n",
       " 'utility',\n",
       " '6',\n",
       " '-',\n",
       " 'speed',\n",
       " 'automatic',\n",
       " 'with',\n",
       " 'sportmatic',\n",
       " '2',\n",
       " '.',\n",
       " '4l',\n",
       " 'dohc',\n",
       " 'fwdodometer',\n",
       " 'is',\n",
       " '1179',\n",
       " 'miles',\n",
       " 'below',\n",
       " 'market',\n",
       " 'average',\n",
       " '!',\n",
       " 'priced',\n",
       " 'below',\n",
       " 'kbb',\n",
       " 'fair',\n",
       " 'purchase',\n",
       " 'price',\n",
       " '!',\n",
       " 'established',\n",
       " 'in',\n",
       " '1986',\n",
       " 'and',\n",
       " 'employing',\n",
       " 'nearly',\n",
       " '450',\n",
       " 'people',\n",
       " 'in',\n",
       " 'nebraska',\n",
       " 'and',\n",
       " 'missouri',\n",
       " ',',\n",
       " 'the',\n",
       " 'anderson',\n",
       " 'auto',\n",
       " 'group',\n",
       " 'family',\n",
       " 'of',\n",
       " 'dealerships',\n",
       " 'is',\n",
       " 'designed',\n",
       " 'to',\n",
       " 'be',\n",
       " 'fast',\n",
       " ',',\n",
       " 'fair',\n",
       " ',',\n",
       " 'simple',\n",
       " ',',\n",
       " '&',\n",
       " 'stress',\n",
       " '-',\n",
       " 'free',\n",
       " '.',\n",
       " 'anderson',\n",
       " 'auto',\n",
       " 'group',\n",
       " 'offers',\n",
       " 'new',\n",
       " '&',\n",
       " 'quality',\n",
       " 'pre',\n",
       " '-',\n",
       " 'owned',\n",
       " 'vehicles',\n",
       " 'with',\n",
       " 'competitive',\n",
       " 'market',\n",
       " 'pricing',\n",
       " 'and',\n",
       " 'a',\n",
       " 'non',\n",
       " '-',\n",
       " 'commissioned',\n",
       " 'sales',\n",
       " 'staff',\n",
       " '.',\n",
       " 'complimentary',\n",
       " 'benefits',\n",
       " '-',\n",
       " 'see',\n",
       " 'store',\n",
       " 'for',\n",
       " 'details',\n",
       " 'vehicle',\n",
       " 'history',\n",
       " 'report',\n",
       " 'on',\n",
       " 'all',\n",
       " 'pre',\n",
       " '-',\n",
       " 'owned',\n",
       " 'collision',\n",
       " 'deductible',\n",
       " 'reimbursement',\n",
       " '48',\n",
       " '-',\n",
       " 'hour',\n",
       " 'return',\n",
       " 'or',\n",
       " 'exchange',\n",
       " 'helping',\n",
       " 'others',\n",
       " '-',\n",
       " 'a',\n",
       " 'portion',\n",
       " 'of',\n",
       " 'all',\n",
       " 'sales',\n",
       " 'at',\n",
       " 'anderson',\n",
       " 'auto',\n",
       " 'group',\n",
       " 'go',\n",
       " 'to',\n",
       " 'our',\n",
       " '501c3',\n",
       " 'non',\n",
       " '-',\n",
       " 'profit',\n",
       " 'organization',\n",
       " ',',\n",
       " 'because',\n",
       " 'people',\n",
       " 'matter',\n",
       " '.',\n",
       " 'bpm',\n",
       " 'partners',\n",
       " 'with',\n",
       " 'local',\n",
       " 'nonprofits',\n",
       " 'to',\n",
       " 'provide',\n",
       " 'vehicles',\n",
       " 'and',\n",
       " 'repair',\n",
       " 'to',\n",
       " 'those',\n",
       " 'in',\n",
       " 'need',\n",
       " '.',\n",
       " 'mike',\n",
       " 'anderson',\n",
       " 'was',\n",
       " 'one',\n",
       " 'of',\n",
       " '51',\n",
       " 'dealers',\n",
       " 'nationwide',\n",
       " 'to',\n",
       " 'be',\n",
       " 'nominated',\n",
       " 'for',\n",
       " 'the',\n",
       " '2019',\n",
       " 'time',\n",
       " 'dealer',\n",
       " 'of',\n",
       " 'the',\n",
       " 'year',\n",
       " 'award',\n",
       " 'because',\n",
       " 'of',\n",
       " 'his',\n",
       " 'support',\n",
       " 'to',\n",
       " 'our',\n",
       " 'communities',\n",
       " '.',\n",
       " 'interested',\n",
       " 'in',\n",
       " 'donating',\n",
       " 'your',\n",
       " 'vehicle',\n",
       " '(',\n",
       " 'it',\n",
       " 'can',\n",
       " 'be',\n",
       " 'in',\n",
       " 'any',\n",
       " 'condition',\n",
       " ')',\n",
       " 'to',\n",
       " 'help',\n",
       " 'support',\n",
       " 'your',\n",
       " 'community',\n",
       " '?',\n",
       " 'ask',\n",
       " 'a',\n",
       " 'salesperson',\n",
       " 'today',\n",
       " '!',\n",
       " '21',\n",
       " '/',\n",
       " '28',\n",
       " 'city',\n",
       " '/',\n",
       " 'highway',\n",
       " 'mpgawards',\n",
       " ':*',\n",
       " '2018',\n",
       " 'kbb',\n",
       " '.',\n",
       " 'com',\n",
       " '10',\n",
       " 'most',\n",
       " 'affordable',\n",
       " '3',\n",
       " '-',\n",
       " 'row',\n",
       " 'vehiclesbecause',\n",
       " 'people',\n",
       " 'matter',\n",
       " '...',\n",
       " 'we',\n",
       " 'will',\n",
       " 'serve',\n",
       " 'your',\n",
       " 'needs',\n",
       " 'by',\n",
       " 'always',\n",
       " 'doing',\n",
       " 'what',\n",
       " 'is',\n",
       " 'right',\n",
       " '.[!@@',\n",
       " 'additional',\n",
       " 'info',\n",
       " '@@!]',\n",
       " 'lx',\n",
       " 'cool',\n",
       " '&',\n",
       " 'connected',\n",
       " 'package',\n",
       " ',',\n",
       " '6',\n",
       " 'speakers',\n",
       " ',',\n",
       " 'am',\n",
       " '/',\n",
       " 'fm',\n",
       " 'radio',\n",
       " ':',\n",
       " 'siriusxm',\n",
       " ',',\n",
       " 'cd',\n",
       " 'player',\n",
       " ',',\n",
       " 'radio',\n",
       " ':',\n",
       " 'am',\n",
       " '/',\n",
       " 'fm',\n",
       " '/',\n",
       " 'cd',\n",
       " '/',\n",
       " 'mp3',\n",
       " '/',\n",
       " 'siriusxm',\n",
       " ',',\n",
       " 'radio',\n",
       " ':',\n",
       " 'am',\n",
       " '/',\n",
       " 'fm',\n",
       " '/',\n",
       " 'cd',\n",
       " '/',\n",
       " 'mp3',\n",
       " '/',\n",
       " 'siriusxm',\n",
       " 'w',\n",
       " '/',\n",
       " 'uvo',\n",
       " 'eservices',\n",
       " ',',\n",
       " 'air',\n",
       " 'conditioning',\n",
       " ',',\n",
       " 'dual',\n",
       " 'zone',\n",
       " 'automatic',\n",
       " 'climate',\n",
       " 'control',\n",
       " ',',\n",
       " 'rear',\n",
       " 'window',\n",
       " 'defroster',\n",
       " ',',\n",
       " 'power',\n",
       " 'steering',\n",
       " ',',\n",
       " 'power',\n",
       " 'windows',\n",
       " ',',\n",
       " 'remote',\n",
       " 'keyless',\n",
       " 'entry',\n",
       " ',',\n",
       " 'steering',\n",
       " 'wheel',\n",
       " 'mounted',\n",
       " 'audio',\n",
       " 'controls',\n",
       " ',',\n",
       " 'four',\n",
       " 'wheel',\n",
       " 'independent',\n",
       " 'suspension',\n",
       " ',',\n",
       " 'speed',\n",
       " '-',\n",
       " 'sensing',\n",
       " 'steering',\n",
       " ',',\n",
       " 'traction',\n",
       " 'control',\n",
       " ',',\n",
       " '4',\n",
       " '-',\n",
       " 'wheel',\n",
       " 'disc',\n",
       " 'brakes',\n",
       " ',',\n",
       " 'abs',\n",
       " 'brakes',\n",
       " ',',\n",
       " 'anti',\n",
       " '-',\n",
       " 'whiplash',\n",
       " 'front',\n",
       " 'head',\n",
       " 'restraints',\n",
       " ',',\n",
       " 'dual',\n",
       " 'front',\n",
       " 'impact',\n",
       " 'airbags',\n",
       " ',',\n",
       " 'dual',\n",
       " 'front',\n",
       " 'side',\n",
       " 'impact',\n",
       " 'airbags',\n",
       " ',',\n",
       " 'front',\n",
       " 'anti',\n",
       " '-',\n",
       " 'roll',\n",
       " 'bar',\n",
       " ',',\n",
       " 'low',\n",
       " 'tire',\n",
       " 'pressure',\n",
       " 'warning',\n",
       " ',',\n",
       " 'occupant',\n",
       " 'sensing',\n",
       " 'airbag',\n",
       " ',',\n",
       " 'overhead',\n",
       " 'airbag',\n",
       " ',',\n",
       " 'rear',\n",
       " 'anti',\n",
       " '-',\n",
       " 'roll',\n",
       " 'bar',\n",
       " ',',\n",
       " 'brake',\n",
       " 'assist',\n",
       " ',',\n",
       " 'electronic',\n",
       " 'stability',\n",
       " 'control',\n",
       " ',',\n",
       " 'exterior',\n",
       " 'parking',\n",
       " 'camera',\n",
       " 'rear',\n",
       " ',',\n",
       " 'delay',\n",
       " '-',\n",
       " 'off',\n",
       " 'headlights',\n",
       " ',',\n",
       " 'fully',\n",
       " 'automatic',\n",
       " 'headlights',\n",
       " ',',\n",
       " 'panic',\n",
       " 'alarm',\n",
       " ',',\n",
       " 'security',\n",
       " 'system',\n",
       " ',',\n",
       " 'speed',\n",
       " 'control',\n",
       " ',',\n",
       " 'bumpers',\n",
       " ':',\n",
       " 'body',\n",
       " '-',\n",
       " 'color',\n",
       " ',',\n",
       " 'heated',\n",
       " 'door',\n",
       " 'mirrors',\n",
       " ',',\n",
       " 'power',\n",
       " 'door',\n",
       " 'mirrors',\n",
       " ',',\n",
       " 'roof',\n",
       " 'rack',\n",
       " ':',\n",
       " 'rails',\n",
       " 'only',\n",
       " ',',\n",
       " 'spoiler',\n",
       " ',',\n",
       " 'turn',\n",
       " 'signal',\n",
       " 'indicator',\n",
       " 'mirrors',\n",
       " ',',\n",
       " 'carpet',\n",
       " 'floor',\n",
       " 'mats',\n",
       " '(',\n",
       " '5',\n",
       " 'seat',\n",
       " '),',\n",
       " 'driver',\n",
       " 'door',\n",
       " 'bin',\n",
       " ',',\n",
       " 'driver',\n",
       " 'vanity',\n",
       " 'mirror',\n",
       " ',',\n",
       " 'front',\n",
       " 'reading',\n",
       " 'lights',\n",
       " ',',\n",
       " 'illuminated',\n",
       " 'entry',\n",
       " ',',\n",
       " 'outside',\n",
       " 'temperature',\n",
       " 'display',\n",
       " ',',\n",
       " 'overhead',\n",
       " 'console',\n",
       " ',',\n",
       " 'passenger',\n",
       " 'vanity',\n",
       " 'mirror',\n",
       " ',',\n",
       " 'rear',\n",
       " 'seat',\n",
       " 'center',\n",
       " 'armrest',\n",
       " ',',\n",
       " 'tachometer',\n",
       " ',',\n",
       " 'telescoping',\n",
       " 'steering',\n",
       " 'wheel',\n",
       " ',',\n",
       " 'tilt',\n",
       " 'steering',\n",
       " 'wheel',\n",
       " ',',\n",
       " 'trip',\n",
       " 'computer',\n",
       " ',',\n",
       " 'front',\n",
       " 'bucket',\n",
       " 'seats',\n",
       " ',',\n",
       " 'front',\n",
       " 'center',\n",
       " 'armrest',\n",
       " ',',\n",
       " 'split',\n",
       " 'folding',\n",
       " 'rear',\n",
       " 'seat',\n",
       " ',',\n",
       " 'yes',\n",
       " 'essentials',\n",
       " 'cloth',\n",
       " 'seat',\n",
       " 'trim',\n",
       " ',',\n",
       " 'passenger',\n",
       " 'door',\n",
       " 'bin',\n",
       " ',',\n",
       " 'wheels',\n",
       " ':',\n",
       " '17',\n",
       " '\"',\n",
       " 'x',\n",
       " '7',\n",
       " '.',\n",
       " '0',\n",
       " 'alloy',\n",
       " ',',\n",
       " 'rear',\n",
       " 'window',\n",
       " 'wiper',\n",
       " ',',\n",
       " 'variably',\n",
       " 'intermittent',\n",
       " 'wipers',\n",
       " ',',\n",
       " '3',\n",
       " '.',\n",
       " '51',\n",
       " 'axle',\n",
       " 'ratio',\n",
       " ',**',\n",
       " 'low',\n",
       " 'miles',\n",
       " ',**',\n",
       " 'clean',\n",
       " 'vehicle',\n",
       " 'history',\n",
       " '**,',\n",
       " 'sangria',\n",
       " ',',\n",
       " 'carpet',\n",
       " 'floor',\n",
       " 'mats',\n",
       " '(',\n",
       " '5',\n",
       " 'seat',\n",
       " '),',\n",
       " 'stone',\n",
       " 'beige',\n",
       " 'yes',\n",
       " 'essentials',\n",
       " 'cloth',\n",
       " 'seat',\n",
       " 'trim',\n",
       " ',',\n",
       " 'lx',\n",
       " 'cool',\n",
       " '&',\n",
       " 'connected',\n",
       " 'package',\n",
       " '-',\n",
       " 'inc',\n",
       " ':',\n",
       " 'dual',\n",
       " 'zone',\n",
       " 'automatic',\n",
       " 'climate',\n",
       " 'control',\n",
       " 'ionizing',\n",
       " 'air',\n",
       " 'purifier',\n",
       " 'radio',\n",
       " ':',\n",
       " 'am',\n",
       " '/',\n",
       " 'fm',\n",
       " '/',\n",
       " 'cd',\n",
       " '/',\n",
       " 'mp3',\n",
       " '/',\n",
       " 'siriusxm',\n",
       " 'w',\n",
       " '/',\n",
       " 'uvo',\n",
       " 'eservices',\n",
       " '6',\n",
       " '-',\n",
       " 'speakers',\n",
       " '7',\n",
       " '\"',\n",
       " 'touch',\n",
       " 'screen',\n",
       " 'android',\n",
       " 'auto',\n",
       " 'apple',\n",
       " 'carplay',\n",
       " 'usb',\n",
       " '/',\n",
       " 'auxiliary',\n",
       " 'input',\n",
       " 'jacks',\n",
       " '2',\n",
       " '-',\n",
       " 'rapid',\n",
       " 'charge',\n",
       " 'usb',\n",
       " 'ports',\n",
       " 'and',\n",
       " 'bluetooth',\n",
       " 'wireless',\n",
       " 'technology',\n",
       " ',',\n",
       " 'front',\n",
       " 'wheel',\n",
       " 'drive',\n",
       " ',',\n",
       " 'power',\n",
       " 'steering',\n",
       " ',',\n",
       " 'abs',\n",
       " ',',\n",
       " '4',\n",
       " '-',\n",
       " 'wheel',\n",
       " 'disc',\n",
       " 'brakes',\n",
       " ',',\n",
       " 'brake',\n",
       " 'assist',\n",
       " ',',\n",
       " 'aluminum',\n",
       " 'wheels',\n",
       " ',',\n",
       " 'tires',\n",
       " '-',\n",
       " 'front',\n",
       " 'all',\n",
       " '-',\n",
       " 'season',\n",
       " ',',\n",
       " 'tires',\n",
       " '-',\n",
       " 'rear',\n",
       " 'all',\n",
       " '-',\n",
       " 'season',\n",
       " ',',\n",
       " 'temporary',\n",
       " 'spare',\n",
       " 'tire',\n",
       " ',',\n",
       " 'heated',\n",
       " 'mirrors',\n",
       " ',',\n",
       " 'power',\n",
       " 'mirror',\n",
       " '(',\n",
       " 's',\n",
       " '),',\n",
       " 'integrated',\n",
       " ...]"
      ]
     },
     "execution_count": 29,
     "metadata": {},
     "output_type": "execute_result"
    }
   ],
   "source": [
    "desc['split_desc'][0]"
   ]
  },
  {
   "cell_type": "markdown",
   "id": "62942b66",
   "metadata": {
    "pycharm": {
     "name": "#%% md\n"
    }
   },
   "source": [
    "calculating lengths"
   ]
  },
  {
   "cell_type": "code",
   "execution_count": 30,
   "id": "a8cd1ec4",
   "metadata": {
    "pycharm": {
     "name": "#%%\n"
    }
   },
   "outputs": [
    {
     "name": "stderr",
     "output_type": "stream",
     "text": [
      "/var/folders/w5/ss0d86s13hv0lvf5_8nlgbpw0000gn/T/ipykernel_5624/1251121060.py:1: SettingWithCopyWarning: \n",
      "A value is trying to be set on a copy of a slice from a DataFrame.\n",
      "Try using .loc[row_indexer,col_indexer] = value instead\n",
      "\n",
      "See the caveats in the documentation: https://pandas.pydata.org/pandas-docs/stable/user_guide/indexing.html#returning-a-view-versus-a-copy\n",
      "  desc['split_desc_lengths'] = desc['split_desc'].apply(lambda x: len(x))\n"
     ]
    }
   ],
   "source": [
    "desc['split_desc_lengths'] = desc['split_desc'].apply(lambda x: len(x))"
   ]
  },
  {
   "cell_type": "code",
   "execution_count": 31,
   "id": "b3a4aa37",
   "metadata": {
    "pycharm": {
     "name": "#%%\n"
    }
   },
   "outputs": [
    {
     "data": {
      "image/png": "[encoded data removed]",
      "text/plain": [
       "<Figure size 432x288 with 1 Axes>"
      ]
     },
     "metadata": {},
     "output_type": "display_data"
    }
   ],
   "source": [
    "plt.hist(desc['split_desc_lengths'], bins=20, range=(0, 2000), color='r')\n",
    "plt.show()"
   ]
  },
  {
   "cell_type": "markdown",
   "id": "4393d5e1",
   "metadata": {
    "pycharm": {
     "name": "#%% md\n"
    }
   },
   "source": [
    "description length, frequency"
   ]
  },
  {
   "cell_type": "code",
   "execution_count": 32,
   "id": "4d8d6c5b",
   "metadata": {
    "pycharm": {
     "name": "#%%\n"
    }
   },
   "outputs": [
    {
     "data": {
      "text/plain": [
       "1       2637\n",
       "412      178\n",
       "416      175\n",
       "310      175\n",
       "372      174\n",
       "        ... \n",
       "1808       1\n",
       "1941       1\n",
       "2035       1\n",
       "2079       1\n",
       "1775       1\n",
       "Name: split_desc_lengths, Length: 2080, dtype: int64"
      ]
     },
     "execution_count": 32,
     "metadata": {},
     "output_type": "execute_result"
    }
   ],
   "source": [
    "desc['split_desc_lengths'].value_counts()"
   ]
  },
  {
   "cell_type": "markdown",
   "id": "87641cb6",
   "metadata": {
    "pycharm": {
     "name": "#%% md\n"
    }
   },
   "source": [
    "Dropping empty descriptions:"
   ]
  },
  {
   "cell_type": "code",
   "execution_count": 33,
   "id": "65c8bf65",
   "metadata": {
    "pycharm": {
     "name": "#%%\n"
    }
   },
   "outputs": [
    {
     "name": "stderr",
     "output_type": "stream",
     "text": [
      "/Users/org/anaconda3/lib/python3.9/site-packages/pandas/core/frame.py:4906: SettingWithCopyWarning: \n",
      "A value is trying to be set on a copy of a slice from a DataFrame\n",
      "\n",
      "See the caveats in the documentation: https://pandas.pydata.org/pandas-docs/stable/user_guide/indexing.html#returning-a-view-versus-a-copy\n",
      "  return super().drop(\n"
     ]
    }
   ],
   "source": [
    "desc.drop(desc[desc.split_desc_lengths == 1].index, inplace=True)"
   ]
  },
  {
   "cell_type": "code",
   "execution_count": 34,
   "id": "32d1f3c4",
   "metadata": {
    "pycharm": {
     "name": "#%%\n"
    }
   },
   "outputs": [
    {
     "data": {
      "text/plain": [
       "412     178\n",
       "310     175\n",
       "416     175\n",
       "372     174\n",
       "432     174\n",
       "       ... \n",
       "1808      1\n",
       "1941      1\n",
       "2035      1\n",
       "2079      1\n",
       "1775      1\n",
       "Name: split_desc_lengths, Length: 2079, dtype: int64"
      ]
     },
     "execution_count": 34,
     "metadata": {},
     "output_type": "execute_result"
    }
   ],
   "source": [
    "desc['split_desc_lengths'].value_counts()"
   ]
  },
  {
   "cell_type": "markdown",
   "id": "f42dfeb1",
   "metadata": {
    "pycharm": {
     "name": "#%% md\n"
    }
   },
   "source": [
    "id, description length (Sorted)"
   ]
  },
  {
   "cell_type": "code",
   "execution_count": 35,
   "id": "61e77078",
   "metadata": {
    "pycharm": {
     "name": "#%%\n"
    }
   },
   "outputs": [
    {
     "data": {
      "text/plain": [
       "56091       2\n",
       "90088       2\n",
       "5345        2\n",
       "97714       2\n",
       "35865       2\n",
       "         ... \n",
       "56249    3557\n",
       "38889    3794\n",
       "15448    3966\n",
       "25383    3973\n",
       "30413    6092\n",
       "Name: split_desc_lengths, Length: 97363, dtype: int64"
      ]
     },
     "execution_count": 35,
     "metadata": {},
     "output_type": "execute_result"
    }
   ],
   "source": [
    "desc['split_desc_lengths'].sort_values()"
   ]
  },
  {
   "cell_type": "markdown",
   "id": "8cdeec1d",
   "metadata": {
    "pycharm": {
     "name": "#%% md\n"
    }
   },
   "source": [
    "### Stop-Words"
   ]
  },
  {
   "cell_type": "code",
   "execution_count": 36,
   "id": "de821f72",
   "metadata": {
    "pycharm": {
     "name": "#%%\n"
    }
   },
   "outputs": [],
   "source": [
    "from nltk.corpus import stopwords\n",
    "from string import punctuation"
   ]
  },
  {
   "cell_type": "code",
   "execution_count": 37,
   "id": "02655e40",
   "metadata": {
    "pycharm": {
     "name": "#%%\n"
    }
   },
   "outputs": [
    {
     "name": "stdout",
     "output_type": "stream",
     "text": [
      "211\n"
     ]
    },
    {
     "data": {
      "text/plain": [
       "['i',\n",
       " 'me',\n",
       " 'my',\n",
       " 'myself',\n",
       " 'we',\n",
       " 'our',\n",
       " 'ours',\n",
       " 'ourselves',\n",
       " 'you',\n",
       " \"you're\",\n",
       " \"you've\",\n",
       " \"you'll\",\n",
       " \"you'd\",\n",
       " 'your',\n",
       " 'yours',\n",
       " 'yourself',\n",
       " 'yourselves',\n",
       " 'he',\n",
       " 'him',\n",
       " 'his',\n",
       " 'himself',\n",
       " 'she',\n",
       " \"she's\",\n",
       " 'her',\n",
       " 'hers',\n",
       " 'herself',\n",
       " 'it',\n",
       " \"it's\",\n",
       " 'its',\n",
       " 'itself',\n",
       " 'they',\n",
       " 'them',\n",
       " 'their',\n",
       " 'theirs',\n",
       " 'themselves',\n",
       " 'what',\n",
       " 'which',\n",
       " 'who',\n",
       " 'whom',\n",
       " 'this',\n",
       " 'that',\n",
       " \"that'll\",\n",
       " 'these',\n",
       " 'those',\n",
       " 'am',\n",
       " 'is',\n",
       " 'are',\n",
       " 'was',\n",
       " 'were',\n",
       " 'be',\n",
       " 'been',\n",
       " 'being',\n",
       " 'have',\n",
       " 'has',\n",
       " 'had',\n",
       " 'having',\n",
       " 'do',\n",
       " 'does',\n",
       " 'did',\n",
       " 'doing',\n",
       " 'a',\n",
       " 'an',\n",
       " 'the',\n",
       " 'and',\n",
       " 'but',\n",
       " 'if',\n",
       " 'or',\n",
       " 'because',\n",
       " 'as',\n",
       " 'until',\n",
       " 'while',\n",
       " 'of',\n",
       " 'at',\n",
       " 'by',\n",
       " 'for',\n",
       " 'with',\n",
       " 'about',\n",
       " 'against',\n",
       " 'between',\n",
       " 'into',\n",
       " 'through',\n",
       " 'during',\n",
       " 'before',\n",
       " 'after',\n",
       " 'above',\n",
       " 'below',\n",
       " 'to',\n",
       " 'from',\n",
       " 'up',\n",
       " 'down',\n",
       " 'in',\n",
       " 'out',\n",
       " 'on',\n",
       " 'off',\n",
       " 'over',\n",
       " 'under',\n",
       " 'again',\n",
       " 'further',\n",
       " 'then',\n",
       " 'once',\n",
       " 'here',\n",
       " 'there',\n",
       " 'when',\n",
       " 'where',\n",
       " 'why',\n",
       " 'how',\n",
       " 'all',\n",
       " 'any',\n",
       " 'both',\n",
       " 'each',\n",
       " 'few',\n",
       " 'more',\n",
       " 'most',\n",
       " 'other',\n",
       " 'some',\n",
       " 'such',\n",
       " 'no',\n",
       " 'nor',\n",
       " 'not',\n",
       " 'only',\n",
       " 'own',\n",
       " 'same',\n",
       " 'so',\n",
       " 'than',\n",
       " 'too',\n",
       " 'very',\n",
       " 's',\n",
       " 't',\n",
       " 'can',\n",
       " 'will',\n",
       " 'just',\n",
       " 'don',\n",
       " \"don't\",\n",
       " 'should',\n",
       " \"should've\",\n",
       " 'now',\n",
       " 'd',\n",
       " 'll',\n",
       " 'm',\n",
       " 'o',\n",
       " 're',\n",
       " 've',\n",
       " 'y',\n",
       " 'ain',\n",
       " 'aren',\n",
       " \"aren't\",\n",
       " 'couldn',\n",
       " \"couldn't\",\n",
       " 'didn',\n",
       " \"didn't\",\n",
       " 'doesn',\n",
       " \"doesn't\",\n",
       " 'hadn',\n",
       " \"hadn't\",\n",
       " 'hasn',\n",
       " \"hasn't\",\n",
       " 'haven',\n",
       " \"haven't\",\n",
       " 'isn',\n",
       " \"isn't\",\n",
       " 'ma',\n",
       " 'mightn',\n",
       " \"mightn't\",\n",
       " 'mustn',\n",
       " \"mustn't\",\n",
       " 'needn',\n",
       " \"needn't\",\n",
       " 'shan',\n",
       " \"shan't\",\n",
       " 'shouldn',\n",
       " \"shouldn't\",\n",
       " 'wasn',\n",
       " \"wasn't\",\n",
       " 'weren',\n",
       " \"weren't\",\n",
       " 'won',\n",
       " \"won't\",\n",
       " 'wouldn',\n",
       " \"wouldn't\",\n",
       " '!',\n",
       " '\"',\n",
       " '#',\n",
       " '$',\n",
       " '%',\n",
       " '&',\n",
       " \"'\",\n",
       " '(',\n",
       " ')',\n",
       " '*',\n",
       " '+',\n",
       " ',',\n",
       " '-',\n",
       " '.',\n",
       " '/',\n",
       " ':',\n",
       " ';',\n",
       " '<',\n",
       " '=',\n",
       " '>',\n",
       " '?',\n",
       " '@',\n",
       " '[',\n",
       " '\\\\',\n",
       " ']',\n",
       " '^',\n",
       " '_',\n",
       " '`',\n",
       " '{',\n",
       " '|',\n",
       " '}',\n",
       " '~']"
      ]
     },
     "execution_count": 37,
     "metadata": {},
     "output_type": "execute_result"
    }
   ],
   "source": [
    "english_sw = stopwords.words('english')\n",
    "english_sw += punctuation\n",
    "print(len(english_sw))\n",
    "english_sw"
   ]
  },
  {
   "cell_type": "code",
   "execution_count": 76,
   "id": "b1716928",
   "metadata": {
    "pycharm": {
     "name": "#%%\n"
    }
   },
   "outputs": [],
   "source": [
    "desc['split_desc'] = desc.split_desc.apply(lambda x: list(filter(lambda y: y if y not in english_sw else \"\", x)))"
   ]
  },
  {
   "cell_type": "code",
   "execution_count": 79,
   "id": "9f849657",
   "metadata": {
    "pycharm": {
     "name": "#%%\n"
    }
   },
   "outputs": [],
   "source": [
    "# Creating a word corpus\n",
    "\n",
    "vocabulary = list()\n",
    "for l in desc['split_desc'].values:\n",
    "    vocabulary.extend(l)\n"
   ]
  },
  {
   "cell_type": "code",
   "execution_count": 80,
   "id": "47f6f48b",
   "metadata": {
    "pycharm": {
     "name": "#%%\n"
    }
   },
   "outputs": [
    {
     "data": {
      "text/plain": [
       "67627"
      ]
     },
     "execution_count": 80,
     "metadata": {},
     "output_type": "execute_result"
    }
   ],
   "source": [
    "len(set(vocabulary))"
   ]
  },
  {
   "cell_type": "code",
   "execution_count": 81,
   "id": "d6359184",
   "metadata": {
    "pycharm": {
     "name": "#%%\n"
    }
   },
   "outputs": [],
   "source": [
    "from collections import Counter\n",
    "counter=Counter(vocabulary)\n",
    "most=counter.most_common(10)"
   ]
  },
  {
   "cell_type": "code",
   "execution_count": 82,
   "id": "96acdac5",
   "metadata": {
    "pycharm": {
     "name": "#%%\n"
    }
   },
   "outputs": [
    {
     "data": {
      "text/plain": [
       "[('front', 872445),\n",
       " ('rear', 821573),\n",
       " ('power', 692779),\n",
       " ('wheel', 550536),\n",
       " ('steering', 478912),\n",
       " ('seat', 457464),\n",
       " ('control', 445245),\n",
       " ('driver', 387654),\n",
       " ('door', 372728),\n",
       " ('system', 347978)]"
      ]
     },
     "execution_count": 82,
     "metadata": {},
     "output_type": "execute_result"
    }
   ],
   "source": [
    "most"
   ]
  },
  {
   "cell_type": "markdown",
   "id": "39e4c50e",
   "metadata": {
    "pycharm": {
     "name": "#%% md\n"
    }
   },
   "source": [
    "### Bigrams and Trigrams"
   ]
  },
  {
   "cell_type": "code",
   "execution_count": 91,
   "id": "4b6858c7",
   "metadata": {
    "pycharm": {
     "name": "#%%\n"
    }
   },
   "outputs": [],
   "source": [
    "bigrams = list()\n",
    "trigrams = list()\n",
    "for sentence in desc['split_desc'].values:\n",
    "    bigrams += nltk.bigrams(sentence)\n",
    "    trigrams += nltk.trigrams(sentence)"
   ]
  },
  {
   "cell_type": "code",
   "execution_count": 92,
   "id": "f4c1d2eb",
   "metadata": {
    "pycharm": {
     "name": "#%%\n"
    }
   },
   "outputs": [],
   "source": [
    "from collections import Counter\n",
    "\n",
    "bigrams_counter = Counter(bigrams)\n",
    "trigrams_counter = Counter(trigrams)"
   ]
  },
  {
   "cell_type": "code",
   "execution_count": 93,
   "id": "31e22320",
   "metadata": {
    "pycharm": {
     "name": "#%%\n"
    }
   },
   "outputs": [
    {
     "data": {
      "text/plain": [
       "[(('steering', 'wheel'), 323937),\n",
       " (('air', 'bag'), 153649),\n",
       " (('vanity', 'mirror'), 146495),\n",
       " (('power', 'door'), 124641),\n",
       " (('rear', 'seat'), 117196),\n",
       " (('keyless', 'entry'), 111501),\n",
       " (('power', 'windows'), 110351),\n",
       " (('traction', 'control'), 105883),\n",
       " (('bucket', 'seats'), 100901),\n",
       " (('dual', 'front'), 99741)]"
      ]
     },
     "execution_count": 93,
     "metadata": {},
     "output_type": "execute_result"
    }
   ],
   "source": [
    "bigrams_counter.most_common(10)"
   ]
  },
  {
   "cell_type": "code",
   "execution_count": 94,
   "id": "56aa9f6f",
   "metadata": {
    "pycharm": {
     "name": "#%%\n"
    }
   },
   "outputs": [
    {
     "data": {
      "text/plain": [
       "[(('additional', 'info', '@@!]'), 92271),\n",
       " (('anti', 'roll', 'bar'), 83812),\n",
       " (('power', 'door', 'locks'), 78921),\n",
       " (('4', 'wheel', 'disc'), 74024),\n",
       " (('wheel', 'disc', 'brakes'), 72735),\n",
       " (('steering', 'wheel', 'mounted'), 67454),\n",
       " (('passenger', 'vanity', 'mirror'), 66788),\n",
       " (('remote', 'keyless', 'entry'), 64563),\n",
       " (('driver', 'vanity', 'mirror'), 64096),\n",
       " (('front', 'bucket', 'seats'), 58466)]"
      ]
     },
     "execution_count": 94,
     "metadata": {},
     "output_type": "execute_result"
    }
   ],
   "source": [
    "trigrams_counter.most_common(10)"
   ]
  }
 ],
 "metadata": {
  "interpreter": {
   "hash": "39ef70a15da1c73926430dba87d1b69a083016cf43774f6ae683e058b6bfba57"
  },
  "kernelspec": {
   "display_name": "Python 3.9.7 ('base')",
   "language": "python",
   "name": "python3"
  },
  "language_info": {
   "codemirror_mode": {
    "name": "ipython",
    "version": 3
   },
   "file_extension": ".py",
   "mimetype": "text/x-python",
   "name": "python",
   "nbconvert_exporter": "python",
   "pygments_lexer": "ipython3",
   "version": "3.9.7"
  }
 },
 "nbformat": 4,
 "nbformat_minor": 5
}